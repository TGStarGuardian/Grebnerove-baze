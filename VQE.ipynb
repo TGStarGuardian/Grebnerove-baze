{
 "cells": [
  {
   "cell_type": "markdown",
   "id": "611ea5e6-a389-427b-895b-98a37e8895ab",
   "metadata": {},
   "source": [
    "# Varijacioni kvantni rešavač sopstvenih vrednosti (VQE)"
   ]
  },
  {
   "cell_type": "markdown",
   "id": "f91be70a-9398-4aeb-a723-45d33aa7d059",
   "metadata": {},
   "source": [
    "VQE je jedan od najpoznatijih algoritama kvantnog računarstva. Glavna primena mu je nalaženje najmanje sopstvene vrednosti ermitske matrice $H$, ali se može modifikovati da nalazi i najveću sopstvenu vrednost. Algoritam kombinuje klasično i kvantno računarstvo, koristeći prednosti obe tehnologije.\n",
    "\n",
    "Osnovni elementi algoritma su:\n",
    "* ansatz - predstavlja parametrizovani jedinični vektor $\\ket{\\psi(\\theta)}$; dat je kao kvantno kolo $U(\\theta)$ koje generiše taj vektor;\n",
    "* parametri - služe da inicijalizuju ansatz;\n",
    "* optimizacioni algoritam - može da se koristi gradijentni spust, Nelder-Mead, COBYLA ili neki drugi\n",
    "\n",
    "Cilj algoritma je da pronađe $\\min_{\\theta} \\bra{\\psi(\\theta)} H \\ket{\\psi(\\theta)}$. Ovaj minimum je gornje ograničenje na najmanju sopstvenu vrednost matrice $H$. Može se pokazati da je $\\min_{v, |v = 1|} \\bra{v} H \\ket{v}$ najmanja sopstvena vrednost od $H$. Naime, neka su sopstveni vektori matrice $H$ $\\lambda_1, \\ldots, \\lambda_n$ i neka odgovarajući sopstveni vektori $\\ket{e_1}, \\ldots, \\ket{e_n}$ čine ortonormiranu bazu prostora $\\mathbb{C}^{2^{\\otimes n}}$. Tada se vektor $\\ket{v}$ može rastaviti na bazu $\\ket{e_1}, \\ldots, \\ket{e_n}$:\n",
    "\\begin{align*}\n",
    "    \\ket{v} = c_1 \\ket{e_1} + \\ldots + c_n \\ket{e_n},\n",
    "\\end{align*} za koeficijente $c_1, \\ldots, c_n \\in \\mathbb{C}$.\n",
    "\n",
    "Odavde je $\\bra{v} = \\bar{c_1} \\bra{e_1} + \\ldots + \\bar{c_n} \\bra{e_n}$, pa dobijamo:\n",
    "\\begin{align*}\n",
    "    \\bra{v} H \\ket{v} = \\bra{v} (c_1 \\lambda_1 \\ket{e_1} + \\ldots + c_n \\lambda_n \\ket{e_n}) = c_1^2 \\lambda_1 + \\ldots + c_n^2 \\lambda_n.\n",
    "\\end{align*}\n",
    "\n",
    "Poslednja jednakost sledi na osnovu činjenice da $\\ket{e_i}$ čine ortonormiranu bazu, pa je $\\bra{e_i}\\ket{e_j} = \\delta_{ij}$. Neka su sopstvene vrednosti uređene na sledeći naćin $\\lambda_1 \\leq \\ldots \\leq \\lambda_n$. Minimizacija se sada svodi na nalaženje parametara $c_i$ tako da je poslednja suma najmanja. Imajući u vidu uređenje sopstvenih vrednosti, nalazimo da se minimum postiže za $c_i = \\delta_{1i}$ i da je taj minimum jednak $\\lambda_1$.\n",
    "\n",
    "Na sličan način smo mogli da nađemo najveću sopstvenu vrednost. Ako tražimo $\\max_{v, |v| = 1} \\bra{v} H \\ket{v}$, onda se taj maksimum postiže za $c_{i} = \\delta_{ni}$ i on iznosi $\\lambda_n$. U tom slučaju, ansatz obezbeđuje nalaženje donjeg ograničenja za najveću sopstvenu vrednost.\n",
    "\n",
    "Sada možemo opisati kako radi algoritam. Glavni koraci su:\n",
    "1. nađi početne parametre\n",
    "2. izvršavaj u petlji:\n",
    "   1. pokreni $U(\\theta)\\ket{0}$ da dobiješ ansatz $\\ket{\\psi(\\theta)}$\n",
    "   2. pronađi vrednost $m = \\bra{\\psi(\\theta)} H \\ket{\\psi(\\theta)}$\n",
    "   3. ubaci $m$ u optimizacioni algoritam da dobiješ nove parametre $\\theta$\n",
    "   4. ako je ispunjen uslov izlaska iz optimizacije, izađi iz petlje\n",
    "3. poslednju vrenost $m$ izbaci kao rezultat.\n",
    "\n",
    "Nalaženje vrednosti $m$ se izvodi većinski na kvantnom računaru. Najpre se matrica $H$ dopuni do matrice dimenzija $2^n \\times 2^n$. Onda se ona rastavi na bazu Paulijevih stringova, odnosno operatora oblika $P_i = \\sigma_1 \\otimes \\ldots \\otimes \\sigma_n$, gde je $\\sigma_j \\in \\{I, X, Y, Z\\}$. Računanje se sada može svesti na računanje sume vrednosti $m_i = \\bra{\\psi(\\theta)} P_i \\ket{\\psi(\\theta)}$. Matrica $P_i$ se može dijagonalizovati primenom odgovarajućeg kvantnog kola $M$ takvog da je $M^{\\dagger} P_i M = D_i$, za neku dijagonalnu matricu $D_i$. Konstrukcija je takva da su nam sopstvene vrednosti $\\lambda_j$ od $D_i$ poznate, a sopstveni vektori su kanonska baza prostora $\\mathbb{C}^{2^n}$. Dakle, potrebno je sada samo izračunati $\\bra{M \\psi(\\theta)} D_i \\ket{M \\psi(\\theta)}$. Rastavljenjem $\\ket{M \\psi(\\theta)} = \\sum_{j = 0}^{2^n - 1} c_j \\ket{\\text{bin}(j)}$, gde je $c_i \\in \\mathbb{C}$ i $\\text{bin}(j)$ binarna reprezentacija broja $j$, dobijamo $m_i = \\sum_{j = 0}^{2^{n} - 1} c_j^2 \\lambda_j$. Koeficijenti $c_i^2$ predstavljaju verovatnoću da na kvantno merenje izbaci broj $j$. Oni se mogu dobiti tako što se više puta generiše i meri vektor $M \\psi(\\theta)$ na kvantnom računaru, dok se ne dobije dovoljno dobra aproksimacija za $c_i^2$. Nakon toga, potrebno je samo te koeficijente na klasičnom računaru pomnožiti sa $\\lambda_j$. Množenje sa težinom uz Paulijev operator i sabiranje svih delova da se dobije $m$ se takođe izvodi na klasičnom računaru. **IBM Qiskit** ima klase **Estimator** i **BackendEstimatorV2** koje rade sav ovaj posao za nas."
   ]
  },
  {
   "cell_type": "markdown",
   "id": "ad777387-ff6f-4d8f-8e48-8c8ca1831fca",
   "metadata": {},
   "source": [
    "## Implementacija"
   ]
  },
  {
   "cell_type": "markdown",
   "id": "25807d64-fa0c-4d83-9b6e-c2e8dfd37a38",
   "metadata": {},
   "source": [
    "Za implementaciju ćemo koristiti gotove alate iz **IBM Qiskit**."
   ]
  },
  {
   "cell_type": "code",
   "execution_count": 1,
   "id": "a8f88985-ff14-4a89-b8cd-ffc4cbb1536a",
   "metadata": {},
   "outputs": [],
   "source": [
    "import matplotlib.pyplot as plt\n",
    "import numpy as np\n",
    "from scipy.optimize import minimize\n",
    " \n",
    "from qiskit.circuit.library import efficient_su2\n",
    "from qiskit.quantum_info import SparsePauliOp\n",
    "from qiskit.transpiler.preset_passmanagers import generate_preset_pass_manager\n",
    " \n",
    "from qiskit_ibm_runtime import QiskitRuntimeService, Session\n",
    "from qiskit_ibm_runtime import EstimatorV2 as Estimator"
   ]
  },
  {
   "cell_type": "markdown",
   "id": "25f3daad-64ea-487e-b234-6934ed8b339f",
   "metadata": {},
   "source": [
    "Potrebno je sada povezati se na kvantni računar. Pošto nemamo pristup kvantnom računaru, onda ćemo se vezati za lokalni simulator."
   ]
  },
  {
   "cell_type": "code",
   "execution_count": 2,
   "id": "de25369b-208a-4966-8f53-455e4f0e9ff0",
   "metadata": {},
   "outputs": [
    {
     "data": {
      "text/plain": [
       "<qiskit_ibm_runtime.fake_provider.local_service.QiskitRuntimeLocalService at 0x7fdd1e3c3a70>"
      ]
     },
     "execution_count": 2,
     "metadata": {},
     "output_type": "execute_result"
    }
   ],
   "source": [
    "service = QiskitRuntimeService(channel = \"local\")\n",
    "backend = service.least_busy()\n",
    "service"
   ]
  },
  {
   "cell_type": "markdown",
   "id": "dfe55358-37ad-4e00-a1d8-2ef13ab3001e",
   "metadata": {},
   "source": [
    "Sada možemo učitati neku ermitsku matricu $H$. Nju prevodimo u **SparsePauliOp**, što je zapravo reprezentacija matrice u bazi Paulijevih stringova. Pazimo na dimenzije matrice: matrica mora da ima dimenzije $2^n \\times 2^n$. Ovde sam dodao na dijagonali $1$, jer je on negde između sopstvenih vrednosti matrice $H$. Dopunjavanje se može izvršiti tako što izaberemo $k + 2$ nasumičnih jediničnih vektora, gde je $k$ broj kolona i vrsta koje treba dodati da se dopuni matrica. Izračunavanjem funkcionala u njima i izborom srednjih $k$ vrednosti, možemo te vrednosti da ubacimo u matricu. Ne znam koliko je to pametan pristup, deluje mi da se niko nije bavio ovim problemom. Ako se matrica dopuni dijagonalnim poljima prevelike vrednosti, prilikom estimacije može da dođe do toga da te vrednosti igraju znantno veću ulogu u izrazu za $m$, pa na izlazu iz optimizatora izađe prevelika sopstvena vrednost."
   ]
  },
  {
   "cell_type": "code",
   "execution_count": 3,
   "id": "249f8429-d551-46c0-8735-d7126916f784",
   "metadata": {},
   "outputs": [],
   "source": [
    "H = np.array([[1, 2, 3, 0], [2, 4, 5, 0], [3, 5, 7, 0], [0, 0, 0, 1]])\n",
    "hamiltonian = SparsePauliOp.from_operator(H)"
   ]
  },
  {
   "cell_type": "markdown",
   "id": "cb331c00-0c5a-4546-9e56-b4352df76174",
   "metadata": {},
   "source": [
    "Postoji više načina da se izabere ansatz, a ovde koristimo **Efficient_SU2**, jer je pogodan za dosta problema."
   ]
  },
  {
   "cell_type": "code",
   "execution_count": 4,
   "id": "cdd686b9-033f-4ece-adcc-fa9faed4cfa8",
   "metadata": {},
   "outputs": [
    {
     "data": {
      "image/png": "[encoded data removed]",
      "text/plain": [
       "<Figure size 1039.79x200.667 with 1 Axes>"
      ]
     },
     "execution_count": 4,
     "metadata": {},
     "output_type": "execute_result"
    }
   ],
   "source": [
    "ansatz = efficient_su2(hamiltonian.num_qubits)\n",
    "ansatz.draw(\"mpl\")"
   ]
  },
  {
   "cell_type": "code",
   "execution_count": 5,
   "id": "088c8cf7-4dc9-4a88-b59c-d7dd1e6fff79",
   "metadata": {},
   "outputs": [
    {
     "data": {
      "text/plain": [
       "16"
      ]
     },
     "execution_count": 5,
     "metadata": {},
     "output_type": "execute_result"
    }
   ],
   "source": [
    "num_params = ansatz.num_parameters\n",
    "num_params"
   ]
  },
  {
   "cell_type": "markdown",
   "id": "9ced88c8-9dde-488d-b952-1e6af5cb60da",
   "metadata": {},
   "source": [
    "Da bi se efikasno izvršavao ansatz na kvantnom računaru, potrebno je prevesti ga u arhitekturu kvantnog računara i optimizovati. To postižu naredne linije koda. Ovaj korak nije suštinski za rad algoritma."
   ]
  },
  {
   "cell_type": "code",
   "execution_count": 6,
   "id": "36b2eb02-96ac-48b7-b1d7-2a8f3b4d4cb6",
   "metadata": {},
   "outputs": [],
   "source": [
    "target = backend.target\n",
    "pm = generate_preset_pass_manager(target=target, optimization_level=3)\n",
    " \n",
    "ansatz_isa = pm.run(ansatz)"
   ]
  },
  {
   "cell_type": "code",
   "execution_count": 7,
   "id": "54572cd7-6193-4d58-bd70-c30cca5d75c4",
   "metadata": {},
   "outputs": [
    {
     "data": {
      "image/png": "[encoded data removed]",
      "text/plain": [
       "<Figure size 2095.81x200.667 with 1 Axes>"
      ]
     },
     "execution_count": 7,
     "metadata": {},
     "output_type": "execute_result"
    }
   ],
   "source": [
    "ansatz_isa.draw(output=\"mpl\", idle_wires=False, style=\"iqp\")"
   ]
  },
  {
   "cell_type": "markdown",
   "id": "64e47595-0518-4a7d-af11-28ebbcdcf823",
   "metadata": {},
   "source": [
    "Slično se uradi i sa Hamiltonijanom."
   ]
  },
  {
   "cell_type": "code",
   "execution_count": 8,
   "id": "feb3824c-f985-4b5d-bbcc-5b08730eb6b3",
   "metadata": {},
   "outputs": [],
   "source": [
    "hamiltonian_isa = hamiltonian.apply_layout(layout=ansatz_isa.layout)"
   ]
  },
  {
   "cell_type": "markdown",
   "id": "ce9a1dd6-e1db-4de7-8f7e-7b9df8b1e5eb",
   "metadata": {},
   "source": [
    "Koristićemo optimizator COBYLA. Potrebno je definisati funkciju koja određuje trenutni minimum na osnovu zadatih parametara."
   ]
  },
  {
   "cell_type": "code",
   "execution_count": 9,
   "id": "ebe38e15-6629-4bd8-b964-38673a28979b",
   "metadata": {},
   "outputs": [],
   "source": [
    "def trenutni_minimum(params, ansatz, hamiltonian, estimator):\n",
    "\n",
    "    # ovaj deo koda generiše argumente za estimator\n",
    "    pub = (ansatz, [hamiltonian], [params])\n",
    "    result = estimator.run(pubs=[pub]).result()\n",
    "    energy = result[0].data.evs[0]\n",
    "\n",
    "    # u dictionary ubacujemo vrednosti dosadašnjih energija\n",
    "    \n",
    "    cost_history_dict[\"iters\"] += 1\n",
    "    cost_history_dict[\"prev_vector\"] = params\n",
    "    cost_history_dict[\"cost_history\"].append(energy)\n",
    "    print(\n",
    "        f\"Iters. done: {cost_history_dict['iters']} [Current cost: {energy}]\"\n",
    "    )\n",
    " \n",
    "    return energy"
   ]
  },
  {
   "cell_type": "code",
   "execution_count": 10,
   "id": "99ff4dfc-66d6-46f5-9592-68ff5f903f0a",
   "metadata": {},
   "outputs": [],
   "source": [
    "cost_history_dict = {\n",
    "    \"prev_vector\": None,\n",
    "    \"iters\": 0,\n",
    "    \"cost_history\": [],\n",
    "}"
   ]
  },
  {
   "cell_type": "markdown",
   "id": "f0850978-896a-4c28-9611-b1da7ce4f0bf",
   "metadata": {},
   "source": [
    "Generišemo nasumično izabrane parametre za ansatz."
   ]
  },
  {
   "cell_type": "code",
   "execution_count": 11,
   "id": "97be9595-ae4e-4a52-8f89-f0201675e059",
   "metadata": {},
   "outputs": [],
   "source": [
    "x0 = 2 * np.pi * np.random.random(num_params)"
   ]
  },
  {
   "cell_type": "markdown",
   "id": "2ae6864b-a67f-4edc-95ea-f06a04261bb8",
   "metadata": {},
   "source": [
    "Svi delovi su spremni, samo treba pokrenuti na kvantnom računaru. Pokrećemo u modu sesije, jer ima dosta sličnih operacija koje iteriraju."
   ]
  },
  {
   "cell_type": "code",
   "execution_count": 12,
   "id": "bf157fdd-5463-4b53-a4ed-e6c1914a3422",
   "metadata": {},
   "outputs": [
    {
     "name": "stdout",
     "output_type": "stream",
     "text": [
      "Iters. done: 1 [Current cost: 1.3807999999999994]\n",
      "Iters. done: 2 [Current cost: 3.4058499999999996]\n",
      "Iters. done: 3 [Current cost: 0.12484999999999907]\n",
      "Iters. done: 4 [Current cost: 0.4015999999999995]\n",
      "Iters. done: 5 [Current cost: 1.6708]\n",
      "Iters. done: 6 [Current cost: 0.6253500000000001]\n",
      "Iters. done: 7 [Current cost: 1.2531]\n",
      "Iters. done: 8 [Current cost: 0.16329999999999983]\n",
      "Iters. done: 9 [Current cost: 2.0842]\n",
      "Iters. done: 10 [Current cost: 0.7587499999999999]\n",
      "Iters. done: 11 [Current cost: 0.19410000000000044]\n",
      "Iters. done: 12 [Current cost: 0.2850999999999999]\n",
      "Iters. done: 13 [Current cost: 0.7307999999999997]\n",
      "Iters. done: 14 [Current cost: 0.4073499999999999]\n",
      "Iters. done: 15 [Current cost: 1.9637500000000003]\n",
      "Iters. done: 16 [Current cost: 0.47725000000000006]\n",
      "Iters. done: 17 [Current cost: 2.1893]\n",
      "Iters. done: 18 [Current cost: 1.2942000000000007]\n",
      "Iters. done: 19 [Current cost: 0.13529999999999975]\n",
      "Iters. done: 20 [Current cost: 0.1845499999999991]\n",
      "Iters. done: 21 [Current cost: 0.14120000000000066]\n",
      "Iters. done: 22 [Current cost: 0.1760499999999994]\n",
      "Iters. done: 23 [Current cost: 0.14664999999999978]\n",
      "Iters. done: 24 [Current cost: 0.06555000000000044]\n",
      "Iters. done: 25 [Current cost: 0.18259999999999965]\n",
      "Iters. done: 26 [Current cost: 0.08424999999999994]\n",
      "Iters. done: 27 [Current cost: 0.13805]\n",
      "Iters. done: 28 [Current cost: 0.29654999999999954]\n",
      "Iters. done: 29 [Current cost: 0.13445000000000024]\n",
      "Iters. done: 30 [Current cost: 0.0016499999999996517]\n",
      "Iters. done: 31 [Current cost: 0.01589999999999961]\n",
      "Iters. done: 32 [Current cost: 0.1455999999999995]\n",
      "Iters. done: 33 [Current cost: 0.06819999999999954]\n",
      "Iters. done: 34 [Current cost: 0.03085000000000021]\n",
      "Iters. done: 35 [Current cost: 0.06005000000000055]\n",
      "Iters. done: 36 [Current cost: 0.04080000000000028]\n",
      "Iters. done: 37 [Current cost: 0.09840000000000027]\n",
      "Iters. done: 38 [Current cost: 0.1321999999999997]\n",
      "Iters. done: 39 [Current cost: 0.13674999999999932]\n",
      "Iters. done: 40 [Current cost: 0.15195000000000003]\n",
      "Iters. done: 41 [Current cost: 0.12300000000000058]\n",
      "Iters. done: 42 [Current cost: 0.10929999999999973]\n",
      "Iters. done: 43 [Current cost: 0.1311999999999998]\n",
      "Iters. done: 44 [Current cost: 0.08265000000000022]\n",
      "Iters. done: 45 [Current cost: 0.08044999999999944]\n",
      "Iters. done: 46 [Current cost: 0.11494999999999944]\n",
      "Iters. done: 47 [Current cost: 0.06144999999999973]\n",
      "Iters. done: 48 [Current cost: 0.2031000000000002]\n",
      "Iters. done: 49 [Current cost: 0.0745999999999998]\n",
      "Iters. done: 50 [Current cost: 0.061200000000000254]\n",
      "Iters. done: 51 [Current cost: 0.11184999999999945]\n",
      "Iters. done: 52 [Current cost: 0.1244000000000001]\n",
      "Iters. done: 53 [Current cost: 0.09215000000000062]\n",
      "Iters. done: 54 [Current cost: 0.022300000000000514]\n",
      "Iters. done: 55 [Current cost: 0.08854999999999952]\n",
      "Iters. done: 56 [Current cost: 0.051549999999999846]\n",
      "Iters. done: 57 [Current cost: 0.16319999999999985]\n",
      "Iters. done: 58 [Current cost: 0.013999999999999624]\n",
      "Iters. done: 59 [Current cost: 0.08254999999999968]\n",
      "Iters. done: 60 [Current cost: 0.033499999999999974]\n",
      "Iters. done: 61 [Current cost: 0.04819999999999913]\n",
      "Iters. done: 62 [Current cost: 0.07559999999999958]\n",
      "Iters. done: 63 [Current cost: 0.013150000000000106]\n",
      "Iters. done: 64 [Current cost: 0.11985000000000001]\n",
      "Iters. done: 65 [Current cost: 0.03305000000000041]\n",
      "Iters. done: 66 [Current cost: 0.05489999999999945]\n",
      "Iters. done: 67 [Current cost: 0.1310500000000001]\n",
      "Iters. done: 68 [Current cost: 0.08845000000000014]\n",
      "Iters. done: 69 [Current cost: 0.07779999999999962]\n",
      "Iters. done: 70 [Current cost: 0.040600000000000025]\n",
      "Iters. done: 71 [Current cost: 0.05395000000000033]\n",
      "Iters. done: 72 [Current cost: 0.1219500000000002]\n",
      "Iters. done: 73 [Current cost: 0.09534999999999982]\n",
      "Iters. done: 74 [Current cost: 0.06585000000000063]\n",
      "Iters. done: 75 [Current cost: 0.08475000000000033]\n",
      "Iters. done: 76 [Current cost: 0.10669999999999955]\n",
      "Iters. done: 77 [Current cost: 0.06280000000000016]\n",
      "Iters. done: 78 [Current cost: -0.012150000000000272]\n",
      "Iters. done: 79 [Current cost: 0.09270000000000003]\n",
      "Iters. done: 80 [Current cost: 0.05689999999999984]\n",
      "Iters. done: 81 [Current cost: 0.1065000000000001]\n",
      "Iters. done: 82 [Current cost: 0.12404999999999988]\n",
      "Iters. done: 83 [Current cost: 0.07519999999999988]\n",
      "Iters. done: 84 [Current cost: 0.08225000000000024]\n",
      "Iters. done: 85 [Current cost: 0.08159999999999987]\n",
      "Iters. done: 86 [Current cost: 0.0024500000000002853]\n",
      "Iters. done: 87 [Current cost: 0.09884999999999977]\n",
      "Iters. done: 88 [Current cost: 0.01699999999999996]\n",
      "Iters. done: 89 [Current cost: 0.0980499999999998]\n",
      "Iters. done: 90 [Current cost: 0.10754999999999962]\n",
      "Iters. done: 91 [Current cost: 0.037999999999999895]\n",
      "Iters. done: 92 [Current cost: 0.07290000000000002]\n",
      "Iters. done: 93 [Current cost: 0.09650000000000003]\n",
      "Iters. done: 94 [Current cost: 0.055249999999999494]\n",
      "Iters. done: 95 [Current cost: 0.039550000000000224]\n",
      "Iters. done: 96 [Current cost: 0.0020499999999997742]\n",
      "Iters. done: 97 [Current cost: 0.05274999999999974]\n",
      "Iters. done: 98 [Current cost: 0.08544999999999936]\n",
      "Iters. done: 99 [Current cost: 0.1004500000000001]\n",
      "Iters. done: 100 [Current cost: 0.12135000000000024]\n",
      "Iters. done: 101 [Current cost: 0.16380000000000028]\n",
      "Iters. done: 102 [Current cost: 0.12154999999999971]\n",
      "Iters. done: 103 [Current cost: 0.11465000000000039]\n",
      "Iters. done: 104 [Current cost: 0.07109999999999961]\n",
      "Iters. done: 105 [Current cost: 0.06945000000000057]\n",
      "Iters. done: 106 [Current cost: 0.10449999999999998]\n",
      "Iters. done: 107 [Current cost: 0.02735000000000032]\n",
      "Iters. done: 108 [Current cost: 0.026600000000000457]\n",
      "Iters. done: 109 [Current cost: 0.03405000000000011]\n",
      "Iters. done: 110 [Current cost: 0.033050000000000246]\n",
      "Iters. done: 111 [Current cost: 0.0583500000000009]\n",
      "Iters. done: 112 [Current cost: 0.09545000000000006]\n",
      "Iters. done: 113 [Current cost: 0.13014999999999927]\n",
      "Iters. done: 114 [Current cost: 0.12185000000000021]\n",
      "Iters. done: 115 [Current cost: 0.10105000000000014]\n",
      "Iters. done: 116 [Current cost: 0.10540000000000058]\n",
      "Iters. done: 117 [Current cost: 0.054649999999999616]\n",
      "Iters. done: 118 [Current cost: 0.049899999999999556]\n",
      "Iters. done: 119 [Current cost: 0.02680000000000074]\n",
      "Iters. done: 120 [Current cost: 0.0930999999999998]\n",
      "Iters. done: 121 [Current cost: 0.036300000000000304]\n",
      "Iters. done: 122 [Current cost: 0.06120000000000014]\n",
      "Iters. done: 123 [Current cost: 0.05895000000000017]\n",
      "Iters. done: 124 [Current cost: 0.09125000000000022]\n",
      "Iters. done: 125 [Current cost: 0.043500000000000455]\n",
      "Iters. done: 126 [Current cost: 0.09039999999999995]\n",
      "Iters. done: 127 [Current cost: 0.11570000000000019]\n",
      "Iters. done: 128 [Current cost: 0.07494999999999977]\n",
      "Iters. done: 129 [Current cost: 0.06699999999999992]\n",
      "Iters. done: 130 [Current cost: 0.04159999999999958]\n",
      "Iters. done: 131 [Current cost: 0.14355000000000004]\n",
      "\n",
      "   Normal return from subroutine COBYLA\n",
      "\n",
      "   NFVALS =  131   F = 1.435500E-01    MAXCV = 0.000000E+00\n",
      "   X = 2.212386E+00   1.484756E+00   1.217885E+00   1.370034E+00   2.991156E+00\n",
      "       2.073826E+00   2.337980E+00   6.184405E+00   4.055681E+00   5.869447E+00\n",
      "       1.443152E-01   1.352603E+00   2.726502E+00   6.157052E+00   4.035255E+00\n",
      "       2.762541E+00\n"
     ]
    }
   ],
   "source": [
    "with Session(backend=backend) as session:\n",
    "    estimator = Estimator(mode=session)\n",
    "    estimator.options.default_shots = 10000\n",
    " \n",
    "    res = minimize(\n",
    "        trenutni_minimum,\n",
    "        x0,\n",
    "        args=(ansatz_isa, hamiltonian_isa, estimator),\n",
    "        method=\"cobyla\",\n",
    "        options = {'maxiter' : 200, 'disp' : True}\n",
    "    )"
   ]
  },
  {
   "cell_type": "markdown",
   "id": "18ebfcb4-d497-430e-8fff-c13371ed9e2f",
   "metadata": {},
   "source": [
    "Ispisujemo rezultat optimizatora."
   ]
  },
  {
   "cell_type": "code",
   "execution_count": 13,
   "id": "ea54144c-6c9f-47f7-b01f-56933e05b2d6",
   "metadata": {},
   "outputs": [
    {
     "data": {
      "text/plain": [
       "-0.012150000000000272"
      ]
     },
     "execution_count": 13,
     "metadata": {},
     "output_type": "execute_result"
    }
   ],
   "source": [
    "min(cost_history_dict[\"cost_history\"])"
   ]
  },
  {
   "cell_type": "markdown",
   "id": "96b26f7d-d7a6-4fde-aaef-42a8751ef6a8",
   "metadata": {},
   "source": [
    "Možemo i da nacrtamo grafik da prikažemo kako je izgledala pretraga."
   ]
  },
  {
   "cell_type": "code",
   "execution_count": 14,
   "id": "2481339d-ba35-49aa-8104-ff602b220910",
   "metadata": {},
   "outputs": [
    {
     "data": {
      "image/png": "[encoded data removed]",
      "text/plain": [
       "<Figure size 640x480 with 1 Axes>"
      ]
     },
     "metadata": {},
     "output_type": "display_data"
    }
   ],
   "source": [
    "fig, ax = plt.subplots()\n",
    "ax.plot(range(cost_history_dict[\"iters\"]), cost_history_dict[\"cost_history\"])\n",
    "ax.set_xlabel(\"Iterations\")\n",
    "ax.set_ylabel(\"Cost\")\n",
    "plt.draw()"
   ]
  },
  {
   "cell_type": "markdown",
   "id": "940e0594-7015-4080-9570-a0441e8b621a",
   "metadata": {},
   "source": [
    "Dobili smo $-0.01$, a prava najmanja sopstvena vrednost je $-0.25$."
   ]
  },
  {
   "cell_type": "markdown",
   "id": "60d92a54-de11-4141-bcac-754bace17c48",
   "metadata": {},
   "source": [
    "Sad ćemo sve ovo da iskoristimo da nađemo najveću sopstvenu vrednost."
   ]
  },
  {
   "cell_type": "code",
   "execution_count": 15,
   "id": "6b784626-7680-45af-b3c7-a8a9d28e9c53",
   "metadata": {},
   "outputs": [],
   "source": [
    "cost_history_dict = {\n",
    "    \"prev_vector\": None,\n",
    "    \"iters\": 0,\n",
    "    \"cost_history\": [],\n",
    "}"
   ]
  },
  {
   "cell_type": "code",
   "execution_count": 16,
   "id": "6c931c62-a970-4b64-9424-d7aba7f9c621",
   "metadata": {},
   "outputs": [],
   "source": [
    "x0 = 2 * np.pi * np.random.random(num_params)"
   ]
  },
  {
   "cell_type": "code",
   "execution_count": 17,
   "id": "046a54ed-d03b-4b3b-b2b0-359896f8149b",
   "metadata": {},
   "outputs": [
    {
     "name": "stdout",
     "output_type": "stream",
     "text": [
      "Iters. done: 1 [Current cost: 1.3254500000000007]\n",
      "Iters. done: 2 [Current cost: 0.4498500000000003]\n",
      "Iters. done: 3 [Current cost: 4.2093]\n",
      "Iters. done: 4 [Current cost: 1.8532000000000004]\n",
      "Iters. done: 5 [Current cost: 4.304900000000001]\n",
      "Iters. done: 6 [Current cost: 4.66755]\n",
      "Iters. done: 7 [Current cost: 4.42445]\n",
      "Iters. done: 8 [Current cost: 3.5671000000000004]\n",
      "Iters. done: 9 [Current cost: 1.6207000000000005]\n",
      "Iters. done: 10 [Current cost: 4.74215]\n",
      "Iters. done: 11 [Current cost: 5.990450000000001]\n",
      "Iters. done: 12 [Current cost: 5.4935]\n",
      "Iters. done: 13 [Current cost: 4.723650000000001]\n",
      "Iters. done: 14 [Current cost: 2.54275]\n",
      "Iters. done: 15 [Current cost: 7.24245]\n",
      "Iters. done: 16 [Current cost: 5.286399999999999]\n",
      "Iters. done: 17 [Current cost: 7.03365]\n",
      "Iters. done: 18 [Current cost: 8.7584]\n",
      "Iters. done: 19 [Current cost: 8.46505]\n",
      "Iters. done: 20 [Current cost: 9.20795]\n",
      "Iters. done: 21 [Current cost: 8.9239]\n",
      "Iters. done: 22 [Current cost: 8.9448]\n",
      "Iters. done: 23 [Current cost: 7.9975000000000005]\n",
      "Iters. done: 24 [Current cost: 9.4227]\n",
      "Iters. done: 25 [Current cost: 6.67415]\n",
      "Iters. done: 26 [Current cost: 10.1578]\n",
      "Iters. done: 27 [Current cost: 9.26345]\n",
      "Iters. done: 28 [Current cost: 9.895000000000001]\n",
      "Iters. done: 29 [Current cost: 10.149349999999998]\n",
      "Iters. done: 30 [Current cost: 10.3384]\n",
      "Iters. done: 31 [Current cost: 7.980600000000001]\n",
      "Iters. done: 32 [Current cost: 10.889500000000002]\n",
      "Iters. done: 33 [Current cost: 8.488800000000001]\n",
      "Iters. done: 34 [Current cost: 10.5184]\n",
      "Iters. done: 35 [Current cost: 10.785]\n",
      "Iters. done: 36 [Current cost: 9.9491]\n",
      "Iters. done: 37 [Current cost: 10.892100000000001]\n",
      "Iters. done: 38 [Current cost: 9.938600000000001]\n",
      "Iters. done: 39 [Current cost: 10.873199999999999]\n",
      "Iters. done: 40 [Current cost: 10.899999999999999]\n",
      "Iters. done: 41 [Current cost: 10.77205]\n",
      "Iters. done: 42 [Current cost: 10.89695]\n",
      "Iters. done: 43 [Current cost: 10.770850000000001]\n",
      "Iters. done: 44 [Current cost: 10.31505]\n",
      "Iters. done: 45 [Current cost: 10.90495]\n",
      "Iters. done: 46 [Current cost: 10.4619]\n",
      "Iters. done: 47 [Current cost: 10.769200000000001]\n",
      "Iters. done: 48 [Current cost: 10.349750000000002]\n",
      "Iters. done: 49 [Current cost: 10.690049999999998]\n",
      "Iters. done: 50 [Current cost: 10.206199999999999]\n",
      "Iters. done: 51 [Current cost: 10.82015]\n",
      "Iters. done: 52 [Current cost: 9.777350000000002]\n",
      "Iters. done: 53 [Current cost: 11.02675]\n",
      "Iters. done: 54 [Current cost: 10.876999999999999]\n",
      "Iters. done: 55 [Current cost: 11.010950000000003]\n",
      "Iters. done: 56 [Current cost: 10.94495]\n",
      "Iters. done: 57 [Current cost: 10.8869]\n",
      "Iters. done: 58 [Current cost: 10.920599999999999]\n",
      "Iters. done: 59 [Current cost: 10.77985]\n",
      "Iters. done: 60 [Current cost: 11.02135]\n",
      "Iters. done: 61 [Current cost: 10.79295]\n",
      "Iters. done: 62 [Current cost: 10.9617]\n",
      "Iters. done: 63 [Current cost: 10.879149999999997]\n",
      "Iters. done: 64 [Current cost: 10.953499999999998]\n",
      "Iters. done: 65 [Current cost: 10.948550000000001]\n",
      "Iters. done: 66 [Current cost: 10.9895]\n",
      "Iters. done: 67 [Current cost: 10.941299999999998]\n",
      "Iters. done: 68 [Current cost: 10.91875]\n",
      "Iters. done: 69 [Current cost: 11.033100000000001]\n",
      "Iters. done: 70 [Current cost: 11.053700000000001]\n",
      "Iters. done: 71 [Current cost: 10.997399999999999]\n",
      "Iters. done: 72 [Current cost: 11.1561]\n",
      "Iters. done: 73 [Current cost: 11.03655]\n",
      "Iters. done: 74 [Current cost: 11.070900000000002]\n",
      "Iters. done: 75 [Current cost: 11.1004]\n",
      "Iters. done: 76 [Current cost: 10.9685]\n",
      "Iters. done: 77 [Current cost: 10.9874]\n",
      "Iters. done: 78 [Current cost: 11.06865]\n",
      "Iters. done: 79 [Current cost: 11.00545]\n",
      "Iters. done: 80 [Current cost: 11.058750000000002]\n",
      "Iters. done: 81 [Current cost: 11.045799999999998]\n",
      "Iters. done: 82 [Current cost: 11.1044]\n",
      "Iters. done: 83 [Current cost: 11.07945]\n",
      "Iters. done: 84 [Current cost: 11.03715]\n",
      "Iters. done: 85 [Current cost: 11.012300000000002]\n",
      "Iters. done: 86 [Current cost: 11.008399999999998]\n",
      "Iters. done: 87 [Current cost: 11.113850000000001]\n",
      "Iters. done: 88 [Current cost: 11.1023]\n",
      "Iters. done: 89 [Current cost: 11.01205]\n",
      "Iters. done: 90 [Current cost: 11.020199999999999]\n",
      "Iters. done: 91 [Current cost: 11.03455]\n",
      "Iters. done: 92 [Current cost: 11.1197]\n",
      "Iters. done: 93 [Current cost: 11.0645]\n",
      "Iters. done: 94 [Current cost: 11.0127]\n",
      "Iters. done: 95 [Current cost: 11.09]\n",
      "Iters. done: 96 [Current cost: 11.0434]\n",
      "Iters. done: 97 [Current cost: 11.047049999999999]\n",
      "Iters. done: 98 [Current cost: 11.0557]\n",
      "Iters. done: 99 [Current cost: 11.0707]\n",
      "Iters. done: 100 [Current cost: 11.0662]\n",
      "Iters. done: 101 [Current cost: 11.03185]\n",
      "Iters. done: 102 [Current cost: 11.116799999999998]\n",
      "Iters. done: 103 [Current cost: 11.0593]\n",
      "Iters. done: 104 [Current cost: 11.026799999999998]\n",
      "Iters. done: 105 [Current cost: 11.09105]\n",
      "Iters. done: 106 [Current cost: 11.027800000000003]\n",
      "Iters. done: 107 [Current cost: 11.0667]\n",
      "Iters. done: 108 [Current cost: 11.024399999999998]\n",
      "Iters. done: 109 [Current cost: 11.05575]\n",
      "Iters. done: 110 [Current cost: 10.9937]\n",
      "Iters. done: 111 [Current cost: 11.037450000000002]\n",
      "Iters. done: 112 [Current cost: 11.032049999999998]\n",
      "Iters. done: 113 [Current cost: 11.034650000000001]\n",
      "Iters. done: 114 [Current cost: 11.025149999999998]\n",
      "Iters. done: 115 [Current cost: 11.0674]\n",
      "Iters. done: 116 [Current cost: 11.07385]\n",
      "Iters. done: 117 [Current cost: 11.027849999999999]\n",
      "Iters. done: 118 [Current cost: 11.03435]\n",
      "Iters. done: 119 [Current cost: 11.019300000000001]\n",
      "Iters. done: 120 [Current cost: 11.0726]\n",
      "Iters. done: 121 [Current cost: 11.08855]\n",
      "Iters. done: 122 [Current cost: 11.0259]\n",
      "Iters. done: 123 [Current cost: 11.049050000000001]\n",
      "Iters. done: 124 [Current cost: 11.035499999999999]\n",
      "Iters. done: 125 [Current cost: 11.11825]\n",
      "Iters. done: 126 [Current cost: 11.0742]\n",
      "Iters. done: 127 [Current cost: 11.049199999999999]\n",
      "Iters. done: 128 [Current cost: 11.09235]\n",
      "Iters. done: 129 [Current cost: 11.1009]\n",
      "Iters. done: 130 [Current cost: 11.0419]\n",
      "Iters. done: 131 [Current cost: 11.09305]\n",
      "Iters. done: 132 [Current cost: 10.987599999999999]\n",
      "Iters. done: 133 [Current cost: 11.0315]\n",
      "Iters. done: 134 [Current cost: 11.035449999999999]\n",
      "Iters. done: 135 [Current cost: 11.0091]\n",
      "Iters. done: 136 [Current cost: 11.100200000000001]\n",
      "Iters. done: 137 [Current cost: 11.082650000000001]\n",
      "Iters. done: 138 [Current cost: 11.0045]\n",
      "Iters. done: 139 [Current cost: 11.00455]\n",
      "Iters. done: 140 [Current cost: 11.1022]\n",
      "Iters. done: 141 [Current cost: 11.064700000000002]\n",
      "Iters. done: 142 [Current cost: 11.08205]\n",
      "Iters. done: 143 [Current cost: 11.1009]\n",
      "Iters. done: 144 [Current cost: 11.07605]\n",
      "Iters. done: 145 [Current cost: 11.000549999999999]\n",
      "Iters. done: 146 [Current cost: 10.981100000000001]\n",
      "Iters. done: 147 [Current cost: 11.040500000000002]\n",
      "Iters. done: 148 [Current cost: 11.0094]\n",
      "Iters. done: 149 [Current cost: 11.04435]\n",
      "Iters. done: 150 [Current cost: 11.044849999999999]\n",
      "Iters. done: 151 [Current cost: 11.1057]\n",
      "Iters. done: 152 [Current cost: 11.050799999999999]\n",
      "Iters. done: 153 [Current cost: 11.051650000000002]\n",
      "Iters. done: 154 [Current cost: 11.094099999999997]\n",
      "Iters. done: 155 [Current cost: 11.010349999999999]\n",
      "Iters. done: 156 [Current cost: 11.0919]\n",
      "Iters. done: 157 [Current cost: 11.0776]\n",
      "Iters. done: 158 [Current cost: 11.068349999999999]\n",
      "Iters. done: 159 [Current cost: 11.0685]\n",
      "Iters. done: 160 [Current cost: 11.07955]\n",
      "\n",
      "   Normal return from subroutine COBYLA\n",
      "\n",
      "   NFVALS =  160   F =-1.107955E+01    MAXCV = 0.000000E+00\n",
      "   X = 5.790934E+00   6.657159E+00   2.853554E+00   4.633494E+00   3.011688E+00\n",
      "       2.786089E-01   5.660233E+00   3.187633E+00   1.726970E+00   5.962074E+00\n",
      "       5.046102E+00   1.763549E-01   2.828341E+00   2.704938E+00   4.883734E-01\n",
      "       4.732069E+00\n"
     ]
    }
   ],
   "source": [
    "def trenutni_maksimum(params, ansatz, hamiltonian, estimator):\n",
    "    return -1 * trenutni_minimum(params, ansatz, hamiltonian, estimator)\n",
    "\n",
    "with Session(backend=backend) as session:\n",
    "    estimator = Estimator(mode=session)\n",
    "    estimator.options.default_shots = 10000\n",
    " \n",
    "    res = minimize(\n",
    "        trenutni_maksimum,\n",
    "        x0,\n",
    "        args=(ansatz_isa, hamiltonian_isa, estimator),\n",
    "        method=\"cobyla\",\n",
    "        options = {'maxiter' : 200, 'disp' : True}\n",
    "    )"
   ]
  },
  {
   "cell_type": "code",
   "execution_count": 18,
   "id": "1a532744-5b22-4eca-94c6-927f98c9b360",
   "metadata": {},
   "outputs": [
    {
     "data": {
      "text/plain": [
       "11.1561"
      ]
     },
     "execution_count": 18,
     "metadata": {},
     "output_type": "execute_result"
    }
   ],
   "source": [
    "max(cost_history_dict[\"cost_history\"])"
   ]
  },
  {
   "cell_type": "code",
   "execution_count": 19,
   "id": "94731fd3-1db4-4ea2-af53-fc2b16b63021",
   "metadata": {},
   "outputs": [
    {
     "data": {
      "image/png": "[encoded data removed]",
      "text/plain": [
       "<Figure size 640x480 with 1 Axes>"
      ]
     },
     "metadata": {},
     "output_type": "display_data"
    }
   ],
   "source": [
    "fig, ax = plt.subplots()\n",
    "ax.plot(range(cost_history_dict[\"iters\"]), cost_history_dict[\"cost_history\"])\n",
    "ax.set_xlabel(\"Iterations\")\n",
    "ax.set_ylabel(\"Cost\")\n",
    "plt.draw()"
   ]
  },
  {
   "cell_type": "markdown",
   "id": "3fbca217-519d-4d1b-898b-b63a398a6680",
   "metadata": {},
   "source": [
    "Dobili smo $11.16$, a prava vrednost je $11.91$."
   ]
  },
  {
   "cell_type": "code",
   "execution_count": null,
   "id": "c03019f6-e4fd-4982-b593-02a9560834a7",
   "metadata": {},
   "outputs": [],
   "source": []
  }
 ],
 "metadata": {
  "kernelspec": {
   "display_name": "Python 3 (ipykernel)",
   "language": "python",
   "name": "python3"
  },
  "language_info": {
   "codemirror_mode": {
    "name": "ipython",
    "version": 3
   },
   "file_extension": ".py",
   "mimetype": "text/x-python",
   "name": "python",
   "nbconvert_exporter": "python",
   "pygments_lexer": "ipython3",
   "version": "3.12.3"
  }
 },
 "nbformat": 4,
 "nbformat_minor": 5
}
