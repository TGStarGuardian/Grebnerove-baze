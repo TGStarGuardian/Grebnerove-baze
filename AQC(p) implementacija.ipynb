{
 "cells": [
  {
   "cell_type": "markdown",
   "id": "43747132-4558-4475-9145-43138af12684",
   "metadata": {},
   "source": [
    "# Implementacija algoritma $AQC(p)$"
   ]
  },
  {
   "cell_type": "markdown",
   "id": "6268c096-57f2-40ad-a0f1-0ce5885eb95b",
   "metadata": {},
   "source": [
    "Ovde ćemo prikazati kako se implementira prvi algoritam koji su predložili Dōng i Lín. Nasumično ćemo generisati retku matricu veličine $16 \\times 16$, a onda i vektor $b$ dužine $16$, nakon čega ćemo prikazati kako se rešava sistem jednačina $A x = b$."
   ]
  },
  {
   "cell_type": "code",
   "execution_count": 1,
   "id": "856e8fbf-5b74-4469-8593-9cd43c0545b7",
   "metadata": {},
   "outputs": [],
   "source": [
    "import scipy.sparse as sparse\n",
    "import numpy as np\n",
    "\n",
    "rows = 16\n",
    "cols = 16\n",
    "density = 0.1  # 10% non-zero elements\n",
    "\n",
    "random_sparse_matrix = sparse.random(rows, cols, density=density, format='coo')\n",
    "A = random_sparse_matrix.toarray()"
   ]
  },
  {
   "cell_type": "code",
   "execution_count": 2,
   "id": "cba9b5bd-b2c3-4b2f-a5ed-aad5a2ca9f0c",
   "metadata": {},
   "outputs": [],
   "source": [
    "from math import sqrt\n",
    "\n",
    "b = np.random.rand(cols)\n",
    "c = sqrt(sum(b*b))\n",
    "b = 1/c * b"
   ]
  },
  {
   "cell_type": "markdown",
   "id": "e1edd347-ad43-4b74-9e99-75c5de85979c",
   "metadata": {},
   "source": [
    "Matrica $A$ najverovatnije nije ermitska pozitivno definitna, pa koristimo recept koji su dali autori da se matrica $A$ najpre pretvori u ermitsku."
   ]
  },
  {
   "cell_type": "code",
   "execution_count": 3,
   "id": "3e7ac13c-a9f0-4451-822f-7c69e79df76c",
   "metadata": {},
   "outputs": [],
   "source": [
    "X = np.array([[0.0, 1.0], [1.0, 0.0]])\n",
    "Y = np.array([[0.0, -1.0j], [1.0j, 0.0]])\n",
    "Z = np.array([[1.0, 0.0], [0.0, -1.0]])\n",
    "\n",
    "Op, Om = 1/2.0 * (X + 1.0j * Y), 1/2.0 * (X - 1.0j * Y)"
   ]
  },
  {
   "cell_type": "code",
   "execution_count": 4,
   "id": "9aee2d08-73ae-49bc-9d87-7a6917d374bb",
   "metadata": {},
   "outputs": [
    {
     "name": "stdout",
     "output_type": "stream",
     "text": [
      "True\n"
     ]
    }
   ],
   "source": [
    "A1 = np.kron(Op, A) + np.kron(Om, A.conj().T)\n",
    "b1 = np.kron(np.array([0, 1]), b)\n",
    "N = 2*cols\n",
    "\n",
    "print((A1 == A1.conj().T).all())"
   ]
  },
  {
   "cell_type": "markdown",
   "id": "28210fe5-c769-4368-b158-a4fbae80fb7a",
   "metadata": {},
   "source": [
    "Sada generišemo Hamiltonijane $H_0$ i $H_1$. Koristićemo proceduru za slučaj kada $A$ nije pozitivno definitna."
   ]
  },
  {
   "cell_type": "code",
   "execution_count": 5,
   "id": "44be13c6-1213-4a7b-a99a-9ddc80c31a3b",
   "metadata": {},
   "outputs": [],
   "source": [
    "plus = 1/sqrt(2.0) * np.array([1, 1])\n",
    "Plus = plus.reshape(-1, 1) @ plus.reshape(1, 2)\n",
    "minus = 1/sqrt(2.0) * np.array([1, -1])\n",
    "B1 = b1.reshape(-1, 1) @ b1.reshape(1, N)\n",
    "\n",
    "Qb = np.eye(2*N) - np.kron(Plus, B1)\n",
    "H0 = np.kron(Op, np.kron(Z, np.eye(N)) @ Qb) + np.kron(Om, Qb @ np.kron(Z, np.eye(N)))\n",
    "H1 = np.kron(Op, np.kron(X, A1) @ Qb) + np.kron(Om, Qb @ np.kron(X, A1))"
   ]
  },
  {
   "cell_type": "markdown",
   "id": "3caa73e5-a1fb-482d-bc74-b3abae4c7385",
   "metadata": {},
   "source": [
    "Proverimo da je sve dobro tako što ćemo ubaciti sopstvene vrednosti uz $0$ od $H_0$."
   ]
  },
  {
   "cell_type": "code",
   "execution_count": 6,
   "id": "520e7a29-8437-4dbf-8989-fc3622e31733",
   "metadata": {},
   "outputs": [
    {
     "name": "stdout",
     "output_type": "stream",
     "text": [
      "[[ 0.00000000e+00+0.j]\n",
      " [ 0.00000000e+00+0.j]\n",
      " [ 0.00000000e+00+0.j]\n",
      " [ 0.00000000e+00+0.j]\n",
      " [ 0.00000000e+00+0.j]\n",
      " [ 0.00000000e+00+0.j]\n",
      " [ 0.00000000e+00+0.j]\n",
      " [ 0.00000000e+00+0.j]\n",
      " [ 0.00000000e+00+0.j]\n",
      " [ 0.00000000e+00+0.j]\n",
      " [ 0.00000000e+00+0.j]\n",
      " [ 0.00000000e+00+0.j]\n",
      " [ 0.00000000e+00+0.j]\n",
      " [ 0.00000000e+00+0.j]\n",
      " [ 0.00000000e+00+0.j]\n",
      " [ 0.00000000e+00+0.j]\n",
      " [ 8.32667268e-17+0.j]\n",
      " [ 2.77555756e-17+0.j]\n",
      " [ 6.93889390e-17+0.j]\n",
      " [ 0.00000000e+00+0.j]\n",
      " [ 1.11022302e-16+0.j]\n",
      " [ 1.38777878e-17+0.j]\n",
      " [ 1.24900090e-16+0.j]\n",
      " [ 1.11022302e-16+0.j]\n",
      " [ 6.93889390e-18+0.j]\n",
      " [ 1.38777878e-16+0.j]\n",
      " [ 8.32667268e-17+0.j]\n",
      " [ 1.38777878e-16+0.j]\n",
      " [ 8.32667268e-17+0.j]\n",
      " [ 8.67361738e-19+0.j]\n",
      " [ 5.55111512e-17+0.j]\n",
      " [ 1.38777878e-17+0.j]\n",
      " [ 0.00000000e+00+0.j]\n",
      " [ 0.00000000e+00+0.j]\n",
      " [ 0.00000000e+00+0.j]\n",
      " [ 0.00000000e+00+0.j]\n",
      " [ 0.00000000e+00+0.j]\n",
      " [ 0.00000000e+00+0.j]\n",
      " [ 0.00000000e+00+0.j]\n",
      " [ 0.00000000e+00+0.j]\n",
      " [ 0.00000000e+00+0.j]\n",
      " [ 0.00000000e+00+0.j]\n",
      " [ 0.00000000e+00+0.j]\n",
      " [ 0.00000000e+00+0.j]\n",
      " [ 0.00000000e+00+0.j]\n",
      " [ 0.00000000e+00+0.j]\n",
      " [ 0.00000000e+00+0.j]\n",
      " [ 0.00000000e+00+0.j]\n",
      " [-8.32667268e-17+0.j]\n",
      " [-2.77555756e-17+0.j]\n",
      " [-6.93889390e-17+0.j]\n",
      " [-2.77555756e-17+0.j]\n",
      " [-1.11022302e-16+0.j]\n",
      " [-1.38777878e-17+0.j]\n",
      " [-1.11022302e-16+0.j]\n",
      " [-1.38777878e-16+0.j]\n",
      " [-3.46944695e-17+0.j]\n",
      " [-1.11022302e-16+0.j]\n",
      " [-6.93889390e-17+0.j]\n",
      " [-1.66533454e-16+0.j]\n",
      " [-6.93889390e-17+0.j]\n",
      " [-8.67361738e-19+0.j]\n",
      " [-5.55111512e-17+0.j]\n",
      " [-2.08166817e-17+0.j]\n",
      " [ 0.00000000e+00+0.j]\n",
      " [ 0.00000000e+00+0.j]\n",
      " [ 0.00000000e+00+0.j]\n",
      " [ 0.00000000e+00+0.j]\n",
      " [ 0.00000000e+00+0.j]\n",
      " [ 0.00000000e+00+0.j]\n",
      " [ 0.00000000e+00+0.j]\n",
      " [ 0.00000000e+00+0.j]\n",
      " [ 0.00000000e+00+0.j]\n",
      " [ 0.00000000e+00+0.j]\n",
      " [ 0.00000000e+00+0.j]\n",
      " [ 0.00000000e+00+0.j]\n",
      " [ 0.00000000e+00+0.j]\n",
      " [ 0.00000000e+00+0.j]\n",
      " [ 0.00000000e+00+0.j]\n",
      " [ 0.00000000e+00+0.j]\n",
      " [ 0.00000000e+00+0.j]\n",
      " [ 0.00000000e+00+0.j]\n",
      " [ 0.00000000e+00+0.j]\n",
      " [ 0.00000000e+00+0.j]\n",
      " [ 0.00000000e+00+0.j]\n",
      " [ 0.00000000e+00+0.j]\n",
      " [ 0.00000000e+00+0.j]\n",
      " [ 0.00000000e+00+0.j]\n",
      " [ 0.00000000e+00+0.j]\n",
      " [ 0.00000000e+00+0.j]\n",
      " [ 0.00000000e+00+0.j]\n",
      " [ 0.00000000e+00+0.j]\n",
      " [ 0.00000000e+00+0.j]\n",
      " [ 0.00000000e+00+0.j]\n",
      " [ 0.00000000e+00+0.j]\n",
      " [ 0.00000000e+00+0.j]\n",
      " [ 0.00000000e+00+0.j]\n",
      " [ 0.00000000e+00+0.j]\n",
      " [ 0.00000000e+00+0.j]\n",
      " [ 0.00000000e+00+0.j]\n",
      " [ 0.00000000e+00+0.j]\n",
      " [ 0.00000000e+00+0.j]\n",
      " [ 0.00000000e+00+0.j]\n",
      " [ 0.00000000e+00+0.j]\n",
      " [ 0.00000000e+00+0.j]\n",
      " [ 0.00000000e+00+0.j]\n",
      " [ 0.00000000e+00+0.j]\n",
      " [ 0.00000000e+00+0.j]\n",
      " [ 0.00000000e+00+0.j]\n",
      " [ 0.00000000e+00+0.j]\n",
      " [ 0.00000000e+00+0.j]\n",
      " [ 0.00000000e+00+0.j]\n",
      " [ 0.00000000e+00+0.j]\n",
      " [ 0.00000000e+00+0.j]\n",
      " [ 0.00000000e+00+0.j]\n",
      " [ 0.00000000e+00+0.j]\n",
      " [ 0.00000000e+00+0.j]\n",
      " [ 0.00000000e+00+0.j]\n",
      " [ 0.00000000e+00+0.j]\n",
      " [ 0.00000000e+00+0.j]\n",
      " [ 0.00000000e+00+0.j]\n",
      " [ 0.00000000e+00+0.j]\n",
      " [ 0.00000000e+00+0.j]\n",
      " [ 0.00000000e+00+0.j]\n",
      " [ 0.00000000e+00+0.j]\n",
      " [ 0.00000000e+00+0.j]\n",
      " [ 0.00000000e+00+0.j]\n",
      " [ 0.00000000e+00+0.j]]\n",
      "[[0.00000000e+00+0.j]\n",
      " [0.00000000e+00+0.j]\n",
      " [0.00000000e+00+0.j]\n",
      " [0.00000000e+00+0.j]\n",
      " [0.00000000e+00+0.j]\n",
      " [0.00000000e+00+0.j]\n",
      " [0.00000000e+00+0.j]\n",
      " [0.00000000e+00+0.j]\n",
      " [0.00000000e+00+0.j]\n",
      " [0.00000000e+00+0.j]\n",
      " [0.00000000e+00+0.j]\n",
      " [0.00000000e+00+0.j]\n",
      " [0.00000000e+00+0.j]\n",
      " [0.00000000e+00+0.j]\n",
      " [0.00000000e+00+0.j]\n",
      " [0.00000000e+00+0.j]\n",
      " [0.00000000e+00+0.j]\n",
      " [0.00000000e+00+0.j]\n",
      " [0.00000000e+00+0.j]\n",
      " [0.00000000e+00+0.j]\n",
      " [0.00000000e+00+0.j]\n",
      " [0.00000000e+00+0.j]\n",
      " [0.00000000e+00+0.j]\n",
      " [0.00000000e+00+0.j]\n",
      " [0.00000000e+00+0.j]\n",
      " [0.00000000e+00+0.j]\n",
      " [0.00000000e+00+0.j]\n",
      " [0.00000000e+00+0.j]\n",
      " [0.00000000e+00+0.j]\n",
      " [0.00000000e+00+0.j]\n",
      " [0.00000000e+00+0.j]\n",
      " [0.00000000e+00+0.j]\n",
      " [0.00000000e+00+0.j]\n",
      " [0.00000000e+00+0.j]\n",
      " [0.00000000e+00+0.j]\n",
      " [0.00000000e+00+0.j]\n",
      " [0.00000000e+00+0.j]\n",
      " [0.00000000e+00+0.j]\n",
      " [0.00000000e+00+0.j]\n",
      " [0.00000000e+00+0.j]\n",
      " [0.00000000e+00+0.j]\n",
      " [0.00000000e+00+0.j]\n",
      " [0.00000000e+00+0.j]\n",
      " [0.00000000e+00+0.j]\n",
      " [0.00000000e+00+0.j]\n",
      " [0.00000000e+00+0.j]\n",
      " [0.00000000e+00+0.j]\n",
      " [0.00000000e+00+0.j]\n",
      " [0.00000000e+00+0.j]\n",
      " [0.00000000e+00+0.j]\n",
      " [0.00000000e+00+0.j]\n",
      " [0.00000000e+00+0.j]\n",
      " [0.00000000e+00+0.j]\n",
      " [0.00000000e+00+0.j]\n",
      " [0.00000000e+00+0.j]\n",
      " [0.00000000e+00+0.j]\n",
      " [0.00000000e+00+0.j]\n",
      " [0.00000000e+00+0.j]\n",
      " [0.00000000e+00+0.j]\n",
      " [0.00000000e+00+0.j]\n",
      " [0.00000000e+00+0.j]\n",
      " [0.00000000e+00+0.j]\n",
      " [0.00000000e+00+0.j]\n",
      " [0.00000000e+00+0.j]\n",
      " [0.00000000e+00+0.j]\n",
      " [0.00000000e+00+0.j]\n",
      " [0.00000000e+00+0.j]\n",
      " [0.00000000e+00+0.j]\n",
      " [0.00000000e+00+0.j]\n",
      " [0.00000000e+00+0.j]\n",
      " [0.00000000e+00+0.j]\n",
      " [0.00000000e+00+0.j]\n",
      " [0.00000000e+00+0.j]\n",
      " [0.00000000e+00+0.j]\n",
      " [0.00000000e+00+0.j]\n",
      " [0.00000000e+00+0.j]\n",
      " [0.00000000e+00+0.j]\n",
      " [0.00000000e+00+0.j]\n",
      " [0.00000000e+00+0.j]\n",
      " [0.00000000e+00+0.j]\n",
      " [8.32667268e-17+0.j]\n",
      " [2.77555756e-17+0.j]\n",
      " [6.93889390e-17+0.j]\n",
      " [0.00000000e+00+0.j]\n",
      " [1.11022302e-16+0.j]\n",
      " [1.38777878e-17+0.j]\n",
      " [1.24900090e-16+0.j]\n",
      " [1.11022302e-16+0.j]\n",
      " [6.93889390e-18+0.j]\n",
      " [1.38777878e-16+0.j]\n",
      " [8.32667268e-17+0.j]\n",
      " [1.38777878e-16+0.j]\n",
      " [8.32667268e-17+0.j]\n",
      " [8.67361738e-19+0.j]\n",
      " [5.55111512e-17+0.j]\n",
      " [1.38777878e-17+0.j]\n",
      " [0.00000000e+00+0.j]\n",
      " [0.00000000e+00+0.j]\n",
      " [0.00000000e+00+0.j]\n",
      " [0.00000000e+00+0.j]\n",
      " [0.00000000e+00+0.j]\n",
      " [0.00000000e+00+0.j]\n",
      " [0.00000000e+00+0.j]\n",
      " [0.00000000e+00+0.j]\n",
      " [0.00000000e+00+0.j]\n",
      " [0.00000000e+00+0.j]\n",
      " [0.00000000e+00+0.j]\n",
      " [0.00000000e+00+0.j]\n",
      " [0.00000000e+00+0.j]\n",
      " [0.00000000e+00+0.j]\n",
      " [0.00000000e+00+0.j]\n",
      " [0.00000000e+00+0.j]\n",
      " [8.32667268e-17+0.j]\n",
      " [2.77555756e-17+0.j]\n",
      " [6.93889390e-17+0.j]\n",
      " [2.77555756e-17+0.j]\n",
      " [1.11022302e-16+0.j]\n",
      " [1.38777878e-17+0.j]\n",
      " [1.11022302e-16+0.j]\n",
      " [1.38777878e-16+0.j]\n",
      " [3.46944695e-17+0.j]\n",
      " [1.11022302e-16+0.j]\n",
      " [6.93889390e-17+0.j]\n",
      " [1.66533454e-16+0.j]\n",
      " [6.93889390e-17+0.j]\n",
      " [8.67361738e-19+0.j]\n",
      " [5.55111512e-17+0.j]\n",
      " [2.08166817e-17+0.j]]\n"
     ]
    }
   ],
   "source": [
    "print(H0 @ np.kron(np.kron(np.array([0, 1]), plus), b1).reshape(-1, 1))\n",
    "print(H0 @ np.kron(np.kron(np.array([1, 0]), minus), b1).reshape(-1, 1))"
   ]
  },
  {
   "cell_type": "markdown",
   "id": "9bc769bc-46fb-4b31-82b3-ccc1b4fe59d5",
   "metadata": {},
   "source": [
    "Sve je tu negde na oko $10^{-16}$. To je verovatno zbog preciznosti računanja sa **float** promenljivama na računaru. Deluje da je ovo sve u redu."
   ]
  },
  {
   "cell_type": "markdown",
   "id": "0163ee8d-bf47-4f7d-9805-b432036c8a62",
   "metadata": {},
   "source": [
    "Sada je potrebno definisati funkciju za protok vremena. Ona zavisi od kondicionog broja matrice $A1$. Iskoristićemo VQE da izračunamo aproksimaciju tog broja."
   ]
  },
  {
   "cell_type": "code",
   "execution_count": 7,
   "id": "dfd653fe-3819-44e7-8539-d0581d6813ca",
   "metadata": {},
   "outputs": [
    {
     "name": "stdout",
     "output_type": "stream",
     "text": [
      "Iters. done: 1 [Current cost: 0.1779343639182385]\n",
      "Iters. done: 2 [Current cost: 0.01452238641153093]\n",
      "Iters. done: 3 [Current cost: 0.007655829428685914]\n",
      "Iters. done: 4 [Current cost: -0.005990026315568703]\n",
      "Iters. done: 5 [Current cost: -0.009175097538744677]\n",
      "Iters. done: 6 [Current cost: 0.10556299175314872]\n",
      "Iters. done: 7 [Current cost: -0.05251632937114566]\n",
      "Iters. done: 8 [Current cost: 0.006200755666822716]\n",
      "Iters. done: 9 [Current cost: -0.04595087958313168]\n",
      "Iters. done: 10 [Current cost: -0.04548400848019746]\n",
      "Iters. done: 11 [Current cost: -0.06361117012562306]\n",
      "Iters. done: 12 [Current cost: -0.08510808479341118]\n",
      "Iters. done: 13 [Current cost: -0.13695436630073746]\n",
      "Iters. done: 14 [Current cost: -0.054335686444893984]\n",
      "Iters. done: 15 [Current cost: -0.20606281986745875]\n",
      "Iters. done: 16 [Current cost: -0.04017155873241814]\n",
      "Iters. done: 17 [Current cost: -0.10214687423492362]\n",
      "Iters. done: 18 [Current cost: -0.19460274471110167]\n",
      "Iters. done: 19 [Current cost: -0.07240790563767255]\n",
      "Iters. done: 20 [Current cost: -0.1332127111086806]\n",
      "Iters. done: 21 [Current cost: -0.16701100025246324]\n",
      "Iters. done: 22 [Current cost: -0.12411294113715095]\n",
      "Iters. done: 23 [Current cost: -0.05984442808284292]\n",
      "Iters. done: 24 [Current cost: -0.22897947614540407]\n",
      "Iters. done: 25 [Current cost: -0.23559861097420487]\n",
      "Iters. done: 26 [Current cost: -0.1167984198100856]\n",
      "Iters. done: 27 [Current cost: -0.1743218713900539]\n",
      "Iters. done: 28 [Current cost: -0.1030996220618955]\n",
      "Iters. done: 29 [Current cost: -0.16695211148625816]\n",
      "Iters. done: 30 [Current cost: -0.12001418676183745]\n",
      "Iters. done: 1 [Current cost: 0.044505659540588965]\n",
      "Iters. done: 2 [Current cost: 0.006154455853309995]\n",
      "Iters. done: 3 [Current cost: -0.009005282814364645]\n",
      "Iters. done: 4 [Current cost: 0.01835759542293199]\n",
      "Iters. done: 5 [Current cost: 0.024088965267925012]\n",
      "Iters. done: 6 [Current cost: 0.10120986445494491]\n",
      "Iters. done: 7 [Current cost: 0.12186876239211643]\n",
      "Iters. done: 8 [Current cost: 0.06791746332507388]\n",
      "Iters. done: 9 [Current cost: 0.01611789744828633]\n",
      "Iters. done: 10 [Current cost: 0.03355573304161608]\n",
      "Iters. done: 11 [Current cost: 0.04280333108134484]\n",
      "Iters. done: 12 [Current cost: 0.005042954796703188]\n",
      "Iters. done: 13 [Current cost: 0.08268106648812516]\n",
      "Iters. done: 14 [Current cost: -0.05401381258976982]\n",
      "Iters. done: 15 [Current cost: 0.0010936226342912938]\n",
      "Iters. done: 16 [Current cost: 0.05132763455185199]\n",
      "Iters. done: 17 [Current cost: 0.12082697292395471]\n",
      "Iters. done: 18 [Current cost: 0.0034118975584251938]\n",
      "Iters. done: 19 [Current cost: 0.05581219134325127]\n",
      "Iters. done: 20 [Current cost: 0.06298373620798728]\n",
      "Iters. done: 21 [Current cost: 0.19119722266051883]\n",
      "Iters. done: 22 [Current cost: 0.20588820711151767]\n",
      "Iters. done: 23 [Current cost: 0.2102823389154985]\n",
      "Iters. done: 24 [Current cost: 0.18800247417831875]\n",
      "Iters. done: 25 [Current cost: 0.07867918728020201]\n",
      "Iters. done: 26 [Current cost: 0.21304332819506258]\n",
      "Iters. done: 27 [Current cost: 0.21704690671408305]\n",
      "Iters. done: 28 [Current cost: 0.14932200478161814]\n",
      "Iters. done: 29 [Current cost: 0.11317734719519201]\n",
      "Iters. done: 30 [Current cost: 0.042690584001791654]\n"
     ]
    }
   ],
   "source": [
    "from scipy.optimize import minimize\n",
    " \n",
    "from qiskit.circuit.library import efficient_su2\n",
    "from qiskit.quantum_info import SparsePauliOp\n",
    "from qiskit.transpiler.preset_passmanagers import generate_preset_pass_manager\n",
    " \n",
    "from qiskit_ibm_runtime import QiskitRuntimeService, Session\n",
    "from qiskit_ibm_runtime import EstimatorV2 as Estimator\n",
    "\n",
    "service = QiskitRuntimeService(channel = \"local\")\n",
    "backend = service.least_busy()\n",
    "service\n",
    "\n",
    "hamiltonian = SparsePauliOp.from_operator(A1)\n",
    "\n",
    "ansatz = efficient_su2(hamiltonian.num_qubits)\n",
    "\n",
    "num_params = ansatz.num_parameters\n",
    "\n",
    "target = backend.target\n",
    "pm = generate_preset_pass_manager(target=target, optimization_level=3)\n",
    " \n",
    "ansatz_isa = pm.run(ansatz)\n",
    "\n",
    "hamiltonian_isa = hamiltonian.apply_layout(layout=ansatz_isa.layout)\n",
    "\n",
    "def trenutni_minimum(params, ansatz, hamiltonian, estimator):\n",
    "\n",
    "    # ovaj deo koda generiše argumente za estimator\n",
    "    pub = (ansatz, [hamiltonian], [params])\n",
    "    result = estimator.run(pubs=[pub]).result()\n",
    "    energy = result[0].data.evs[0]\n",
    "\n",
    "    # u dictionary ubacujemo vrednosti dosadašnjih energija\n",
    "    \n",
    "    cost_history_dict[\"iters\"] += 1\n",
    "    cost_history_dict[\"prev_vector\"] = params\n",
    "    cost_history_dict[\"cost_history\"].append(energy)\n",
    "    print(\n",
    "        f\"Iters. done: {cost_history_dict['iters']} [Current cost: {energy}]\"\n",
    "    )\n",
    " \n",
    "    return energy\n",
    "\n",
    "cost_history_dict = {\n",
    "    \"prev_vector\": None,\n",
    "    \"iters\": 0,\n",
    "    \"cost_history\": [],\n",
    "}\n",
    "\n",
    "x0 = 2 * np.pi * np.random.random(num_params)\n",
    "\n",
    "with Session(backend=backend) as session:\n",
    "    estimator = Estimator(mode=session)\n",
    "    estimator.options.default_shots = 10000\n",
    " \n",
    "    res = minimize(\n",
    "        trenutni_minimum,\n",
    "        x0,\n",
    "        args=(ansatz_isa, hamiltonian_isa, estimator),\n",
    "        method=\"cobyla\",\n",
    "        options = {'maxiter' : 30, 'disp' : False}\n",
    "    )\n",
    "\n",
    "eig_min = min(cost_history_dict[\"cost_history\"])\n",
    "\n",
    "cost_history_dict = {\n",
    "    \"prev_vector\": None,\n",
    "    \"iters\": 0,\n",
    "    \"cost_history\": [],\n",
    "}\n",
    "\n",
    "x0 = 2 * np.pi * np.random.random(num_params)\n",
    "\n",
    "def trenutni_maksimum(params, ansatz, hamiltonian, estimator):\n",
    "    return -1 * trenutni_minimum(params, ansatz, hamiltonian, estimator)\n",
    "\n",
    "with Session(backend=backend) as session:\n",
    "    estimator = Estimator(mode=session)\n",
    "    estimator.options.default_shots = 1000\n",
    " \n",
    "    res = minimize(\n",
    "        trenutni_maksimum,\n",
    "        x0,\n",
    "        args=(ansatz_isa, hamiltonian_isa, estimator),\n",
    "        method=\"cobyla\",\n",
    "        options = {'maxiter' : 30, 'disp' : False}\n",
    "    )\n",
    "\n",
    "eig_max = max(cost_history_dict[\"cost_history\"])\n",
    "\n",
    "kappa = np.abs(eig_max / eig_min)"
   ]
  },
  {
   "cell_type": "code",
   "execution_count": 8,
   "id": "fbb33bb3-eb4c-4286-aca6-9401d0808316",
   "metadata": {},
   "outputs": [
    {
     "data": {
      "text/plain": [
       "0.9212571577421015"
      ]
     },
     "execution_count": 8,
     "metadata": {},
     "output_type": "execute_result"
    }
   ],
   "source": [
    "kappa"
   ]
  },
  {
   "cell_type": "markdown",
   "id": "470580bb-b0fe-404a-9283-6bf37cf78f95",
   "metadata": {},
   "source": [
    "Sada imamo kondicioni broj i možemo definisati funkciju vremena."
   ]
  },
  {
   "cell_type": "code",
   "execution_count": 9,
   "id": "9c5328e4-8dc2-49e9-9a59-fdb4e3c9c5f0",
   "metadata": {},
   "outputs": [],
   "source": [
    "def time_function(kappa, s, p):\n",
    "    return kappa/(kappa - 1) * (1 - (1 + s*(kappa**(p - 1) - 1))**(1/(1 - p)))"
   ]
  },
  {
   "cell_type": "markdown",
   "id": "923cab6f-6567-4e08-b5f8-0bf2a025d970",
   "metadata": {},
   "source": [
    "Za parametar $p$ ćemo uzeti $0.5$. Sada biramo $T = O(\\kappa / \\epsilon)$. Neka to bude $T = 2 \\kappa / \\epsilon$, a za $\\epsilon = 1/40$."
   ]
  },
  {
   "cell_type": "code",
   "execution_count": 10,
   "id": "6daea540-b93b-445f-81bc-02777c650aeb",
   "metadata": {},
   "outputs": [
    {
     "data": {
      "text/plain": [
       "73.70057261936812"
      ]
     },
     "execution_count": 10,
     "metadata": {},
     "output_type": "execute_result"
    }
   ],
   "source": [
    "epsilon = 1.0/40.0\n",
    "T = 2 * kappa / epsilon\n",
    "\n",
    "T"
   ]
  },
  {
   "cell_type": "markdown",
   "id": "00b2e9e8-4e4b-4d2c-b17d-f94db3a97717",
   "metadata": {},
   "source": [
    "Ostaje samo da se izabere parametar $M$ koji određuje koliko ćemo imati operatora vremenske evolucije. On se bira tako da bude $M = O(\\text{polylog}(N) T^2 / \\epsilon)$. Postavićemo ga na $10$ u ovom slučaju, čisto da bismo testirali kako radi na kvantnom računaru."
   ]
  },
  {
   "cell_type": "code",
   "execution_count": 38,
   "id": "383b4464-a869-4aaa-8c7a-f77497164ed6",
   "metadata": {},
   "outputs": [],
   "source": [
    "M = 10"
   ]
  },
  {
   "cell_type": "markdown",
   "id": "b6793ff8-f67e-4931-9cbf-6cf5593e5b71",
   "metadata": {},
   "source": [
    "Broj kubita je $\\log_2$ od veličine matrice $H_0$. U ovom slučaju je to $7$. Sada pravimo kvantno kolo koje će opisati vremensku evoluciju. Na to kvantno kolo najpre treba inicijalizovati $\\ket{0} \\ket{-} \\ket{b_1}$."
   ]
  },
  {
   "cell_type": "code",
   "execution_count": 39,
   "id": "ac2f4cce-05bc-4bc9-a7db-e77e46ae745a",
   "metadata": {},
   "outputs": [],
   "source": [
    "from qiskit.circuit import QuantumCircuit\n",
    "from math import log2\n",
    "from qiskit.circuit.library import PauliEvolutionGate\n",
    "from qiskit.circuit.library import StatePreparation\n",
    "\n",
    "# predstavljamo H0 i H1 u SparsePauliOp\n",
    "\n",
    "h0, h1 = SparsePauliOp.from_operator(H0), SparsePauliOp.from_operator(H1)\n",
    "n = int(log2(H0.shape[0]))\n",
    "\n",
    "time_evolution = QuantumCircuit(n)\n",
    "\n",
    "initial_state = np.kron(np.array([1, 0]), np.kron(minus, b1))\n",
    "stateprep = StatePreparation(initial_state)\n",
    "time_evolution.append(stateprep, range(n))\n",
    "\n",
    "h = 1.0/M\n",
    "\n",
    "for i in reversed(range(1, M + 1)):\n",
    "    si = i*h\n",
    "    time_evolution.append(PauliEvolutionGate(h1, time = T * time_function(kappa, si, 0.5) * h), range(n))\n",
    "    time_evolution.append(PauliEvolutionGate(h0, time = T * (1 - time_function(kappa, si, 0.5)) * h), range(n))\n",
    "\n",
    "time_evolution.measure_all()"
   ]
  },
  {
   "cell_type": "markdown",
   "id": "e36a9c13-6d8f-45b2-82f0-fb1ea008a5c8",
   "metadata": {},
   "source": [
    "Ostaje sad samo da se odredi vektor $\\ket{x''}$."
   ]
  },
  {
   "cell_type": "code",
   "execution_count": 40,
   "id": "13651202-833f-47ea-b67e-6cd64904145e",
   "metadata": {},
   "outputs": [
    {
     "name": "stdout",
     "output_type": "stream",
     "text": [
      "PrimitiveResult([SamplerPubResult(data=DataBin(meas=BitArray(<shape=(), num_shots=1024, num_bits=7>)), metadata={'shots': 1024, 'circuit_metadata': {}})], metadata={'version': 2})\n"
     ]
    }
   ],
   "source": [
    "from qiskit_ibm_runtime import SamplerV2 as Sampler\n",
    "\n",
    "sampler = Sampler(mode=backend)\n",
    "\n",
    "qc = pm.run(time_evolution)\n",
    "\n",
    "result = sampler.run([(qc, [])]).result()\n",
    "\n",
    "print(result)"
   ]
  },
  {
   "cell_type": "code",
   "execution_count": 41,
   "id": "342b8690-96ce-4d7f-b067-6c1cca360b28",
   "metadata": {},
   "outputs": [
    {
     "name": "stdout",
     "output_type": "stream",
     "text": [
      "['0101110', '0001001', '1000111', '0010001', '0001110', '0000000', '1100001', '1110110', '0001001', '0010010']\n"
     ]
    }
   ],
   "source": [
    "print(result[0].data.meas.get_bitstrings()[:10])"
   ]
  },
  {
   "cell_type": "code",
   "execution_count": 44,
   "id": "e87d7b1e-3283-4b95-830f-bd855facc5c0",
   "metadata": {},
   "outputs": [
    {
     "name": "stdout",
     "output_type": "stream",
     "text": [
      "[0.07654655 0.10364452 0.09882118 0.0625     0.11267348 0.06987712\n",
      " 0.08838835 0.10364452 0.09882118 0.10825318 0.08267973 0.09375\n",
      " 0.05412659 0.08838835 0.08838835 0.05412659 0.08267973 0.07654655\n",
      " 0.11692679 0.0625     0.07654655 0.08838835 0.08838835 0.07654655\n",
      " 0.05412659 0.08838835 0.0625     0.09375    0.08267973 0.09375\n",
      " 0.08838835 0.10364452 0.08267973 0.08267973 0.09375    0.08267973\n",
      " 0.10825318 0.0625     0.09375    0.08838835 0.09375    0.10825318\n",
      " 0.08838835 0.07654655 0.10364452 0.10364452 0.11692679 0.08267973\n",
      " 0.08267973 0.08838835 0.07654655 0.08267973 0.08838835 0.08267973\n",
      " 0.12103073 0.06987712 0.08838835 0.09882118 0.07654655 0.10825318\n",
      " 0.09882118 0.09375    0.08267973 0.06987712 0.09375    0.09882118\n",
      " 0.07654655 0.06987712 0.07654655 0.08838835 0.09375    0.07654655\n",
      " 0.09882118 0.0625     0.09375    0.07654655 0.07654655 0.09375\n",
      " 0.0625     0.04419417 0.08838835 0.07654655 0.09375    0.09882118\n",
      " 0.08838835 0.07654655 0.08838835 0.09375    0.08267973 0.10364452\n",
      " 0.08838835 0.07654655 0.09375    0.10825318 0.11267348 0.08267973\n",
      " 0.09882118 0.09882118 0.0625     0.11692679 0.12103073 0.0625\n",
      " 0.10364452 0.08267973 0.10825318 0.09375    0.07654655 0.08838835\n",
      " 0.08267973 0.12103073 0.06987712 0.07654655 0.09375    0.09882118\n",
      " 0.08838835 0.09882118 0.08838835 0.05412659 0.07654655 0.08267973\n",
      " 0.11692679 0.05412659 0.06987712 0.07654655 0.0625     0.08267973\n",
      " 0.09375    0.09375   ]\n",
      "1.0\n"
     ]
    }
   ],
   "source": [
    "counts_int = result[0].data.meas.get_int_counts()\n",
    "counts_bin = result[0].data.meas.get_counts()\n",
    "shots = sum(counts_int.values())\n",
    "final_distribution_100_int = {\n",
    "    key: val / shots for key, val in counts_int.items()\n",
    "}\n",
    "\n",
    "y = np.array([sqrt(final_distribution_100_int[x]) for x in range(2**n)])\n",
    "\n",
    "print(y)\n",
    "print(sqrt(sum(y * y)))"
   ]
  },
  {
   "cell_type": "markdown",
   "id": "c118073a-2c50-42c2-b327-a4fad49c4ddd",
   "metadata": {},
   "source": [
    "Sada je potrebno izvući vektor $x''$ iz ovoga. Ovaj vektor koji smo dobili je u obliku $\\ket{0}\\ket{+}\\ket{x''}$. Kada izračunamo $\\ket{0}\\ket{+}$, dobijamo $(1/\\sqrt{2}, 1/\\sqrt{2}, 0, 0)^T$. Onda je vektor koji smo dobili u obliku $((1/\\sqrt{2}) x'', (1/\\sqrt{2}) x'', 0, 0)^T$. Dakle, čitanjem prvih $N$ koordinata i množenjem sa $\\sqrt{2}$ se može dobiti vektor $x''$."
   ]
  },
  {
   "cell_type": "code",
   "execution_count": 45,
   "id": "1638f404-d101-4688-9b14-4631a4ddd656",
   "metadata": {},
   "outputs": [
    {
     "data": {
      "text/plain": [
       "array([0.10825318, 0.14657549, 0.13975425, 0.08838835, 0.15934436,\n",
       "       0.09882118, 0.125     , 0.14657549, 0.13975425, 0.15309311,\n",
       "       0.11692679, 0.13258252, 0.07654655, 0.125     , 0.125     ,\n",
       "       0.07654655, 0.11692679, 0.10825318, 0.16535946, 0.08838835,\n",
       "       0.10825318, 0.125     , 0.125     , 0.10825318, 0.07654655,\n",
       "       0.125     , 0.08838835, 0.13258252, 0.11692679, 0.13258252,\n",
       "       0.125     , 0.14657549])"
      ]
     },
     "execution_count": 45,
     "metadata": {},
     "output_type": "execute_result"
    }
   ],
   "source": [
    "x_guess = np.array([sqrt(2.0) * y[i] for i in range(N)])\n",
    "x_guess"
   ]
  },
  {
   "cell_type": "markdown",
   "id": "81228214-1e87-4208-9c93-a48d926798a5",
   "metadata": {},
   "source": [
    "Sada množimo $A_1$ i $x''$ da bismo dobili konstantu $d$."
   ]
  },
  {
   "cell_type": "code",
   "execution_count": 55,
   "id": "7ec6d644-4d71-41f7-a22c-1f0b5a5de838",
   "metadata": {},
   "outputs": [],
   "source": [
    "temp = (A1 @ x_guess.reshape(-1, 1)).reshape(1, N)"
   ]
  },
  {
   "cell_type": "code",
   "execution_count": 58,
   "id": "c7a9186f-f9a4-492a-aee6-96d951c03d20",
   "metadata": {},
   "outputs": [
    {
     "name": "stdout",
     "output_type": "stream",
     "text": [
      "(8.90084396637771+0j)\n",
      "[0.        +0.j 0.        +0.j 0.        +0.j 0.        +0.j\n",
      " 0.        +0.j 0.        +0.j 0.        +0.j 0.        +0.j\n",
      " 0.        +0.j 0.        +0.j 0.        +0.j 0.        +0.j\n",
      " 0.        +0.j 0.        +0.j 0.        +0.j 0.        +0.j\n",
      " 0.03506384+0.j 0.01203539+0.j 0.03409924+0.j 0.0147322 +0.j\n",
      " 0.03580178+0.j 0.00692153+0.j 0.03734206+0.j 0.04066278+0.j\n",
      " 0.02262036+0.j 0.03427407+0.j 0.02280264+0.j 0.04190873+0.j\n",
      " 0.0253139 +0.j 0.0006546 +0.j 0.02695029+0.j 0.01266312+0.j]\n",
      "[[0.        +0.j 0.2167009 +0.j 0.01161676+0.j 0.00754249+0.j\n",
      "  0.        +0.j 0.12437042+0.j 0.17005163+0.j 0.27109612+0.j\n",
      "  0.16905263+0.j 0.16458649+0.j 0.13629289+0.j 0.        +0.j\n",
      "  0.        +0.j 0.30741398+0.j 0.        +0.j 0.20213994+0.j\n",
      "  0.00324119+0.j 0.09798587+0.j 0.23519568+0.j 0.15400509+0.j\n",
      "  0.        +0.j 0.26746244+0.j 0.11538486+0.j 0.        +0.j\n",
      "  0.00125921+0.j 0.02334482+0.j 0.12016307+0.j 0.11771039+0.j\n",
      "  0.15563305+0.j 0.04687021+0.j 0.09755235+0.j 0.33294226+0.j]]\n"
     ]
    }
   ],
   "source": [
    "d = 0\n",
    "\n",
    "for i in range(N):\n",
    "    if temp[0, i] != 0:\n",
    "        d += b1[i] / temp[0, i]\n",
    "\n",
    "d /= N\n",
    "\n",
    "print(d)\n",
    "\n",
    "print(1/d * b1)\n",
    "print(temp)"
   ]
  },
  {
   "cell_type": "markdown",
   "id": "dabf0d0e-70c6-4e12-8077-3f13d4bfde4a",
   "metadata": {},
   "source": [
    "Konačno, dobijamo: $x = c * d * x''$."
   ]
  },
  {
   "cell_type": "code",
   "execution_count": 61,
   "id": "fc046197-cd58-476c-b8f3-e9d66bf040e8",
   "metadata": {},
   "outputs": [
    {
     "name": "stdout",
     "output_type": "stream",
     "text": [
      "[2.32626102+0.j 3.14977232+0.j 3.00319007+0.j 1.89938417+0.j\n",
      " 3.42416351+0.j 2.12357606+0.j 2.68613486+0.j 3.14977232+0.j\n",
      " 3.00319007+0.j 3.28982989+0.j 2.51264908+0.j 2.84907626+0.j\n",
      " 1.64491495+0.j 2.68613486+0.j 2.68613486+0.j 1.64491495+0.j\n",
      " 2.51264908+0.j 2.32626102+0.j 3.55342241+0.j 1.89938417+0.j\n",
      " 2.32626102+0.j 2.68613486+0.j 2.68613486+0.j 2.32626102+0.j\n",
      " 1.64491495+0.j 2.68613486+0.j 1.89938417+0.j 2.84907626+0.j\n",
      " 2.51264908+0.j 2.84907626+0.j 2.68613486+0.j 3.14977232+0.j]\n"
     ]
    }
   ],
   "source": [
    "x = c * d * x_guess\n",
    "\n",
    "print(x)"
   ]
  },
  {
   "cell_type": "markdown",
   "id": "34271a46-ce86-42c1-b42c-5ea4104fb058",
   "metadata": {},
   "source": [
    "Ova aproksimacija je katastrofalna, jer smo izabrali malo $M$."
   ]
  },
  {
   "cell_type": "code",
   "execution_count": null,
   "id": "0b6dcc22-1163-4a04-b469-a925d0b628d3",
   "metadata": {},
   "outputs": [],
   "source": []
  }
 ],
 "metadata": {
  "kernelspec": {
   "display_name": "Python 3 (ipykernel)",
   "language": "python",
   "name": "python3"
  },
  "language_info": {
   "codemirror_mode": {
    "name": "ipython",
    "version": 3
   },
   "file_extension": ".py",
   "mimetype": "text/x-python",
   "name": "python",
   "nbconvert_exporter": "python",
   "pygments_lexer": "ipython3",
   "version": "3.12.3"
  }
 },
 "nbformat": 4,
 "nbformat_minor": 5
}
