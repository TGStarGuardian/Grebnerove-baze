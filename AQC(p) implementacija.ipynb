{
 "cells": [
  {
   "cell_type": "markdown",
   "id": "43747132-4558-4475-9145-43138af12684",
   "metadata": {},
   "source": [
    "# Implementacija algoritma $AQC(p)$"
   ]
  },
  {
   "cell_type": "markdown",
   "id": "6268c096-57f2-40ad-a0f1-0ce5885eb95b",
   "metadata": {},
   "source": [
    "Ovde ćemo prikazati kako se implementira prvi algoritam koji su predložili Dōng i Lín. Nasumično ćemo generisati retku matricu veličine $16 \\times 16$, a onda i vektor $b$ dužine $16$, nakon čega ćemo prikazati kako se rešava sistem jednačina $A x = b$."
   ]
  },
  {
   "cell_type": "code",
   "execution_count": 1,
   "id": "856e8fbf-5b74-4469-8593-9cd43c0545b7",
   "metadata": {},
   "outputs": [],
   "source": [
    "import scipy.sparse as sparse\n",
    "import numpy as np\n",
    "\n",
    "rows = 16\n",
    "cols = 16\n",
    "density = 0.1  # 10% non-zero elements\n",
    "\n",
    "R = sparse.random(rows, cols, density=density, format='csr', dtype=np.float64)\n",
    "A = R.T @ R + sparse.diags(np.ones(cols) * 10, format='csr')\n",
    "A = A.toarray()"
   ]
  },
  {
   "cell_type": "code",
   "execution_count": 2,
   "id": "cba9b5bd-b2c3-4b2f-a5ed-aad5a2ca9f0c",
   "metadata": {},
   "outputs": [],
   "source": [
    "from math import sqrt\n",
    "\n",
    "b = np.random.rand(cols)\n",
    "c = sqrt(sum(b*b))\n",
    "b = 1/c * b"
   ]
  },
  {
   "cell_type": "markdown",
   "id": "e1edd347-ad43-4b74-9e99-75c5de85979c",
   "metadata": {},
   "source": [
    "Matrica $A$ najverovatnije nije ermitska pozitivno definitna, pa koristimo recept koji su dali autori da se matrica $A$ najpre pretvori u ermitsku."
   ]
  },
  {
   "cell_type": "code",
   "execution_count": 3,
   "id": "3e7ac13c-a9f0-4451-822f-7c69e79df76c",
   "metadata": {},
   "outputs": [],
   "source": [
    "X = np.array([[0.0, 1.0], [1.0, 0.0]])\n",
    "Y = np.array([[0.0, -1.0j], [1.0j, 0.0]])\n",
    "Z = np.array([[1.0, 0.0], [0.0, -1.0]])\n",
    "\n",
    "Op, Om = 1/2.0 * (X + 1.0j * Y), 1/2.0 * (X - 1.0j * Y)"
   ]
  },
  {
   "cell_type": "code",
   "execution_count": 4,
   "id": "9aee2d08-73ae-49bc-9d87-7a6917d374bb",
   "metadata": {},
   "outputs": [],
   "source": [
    "A1 = np.kron(Op, A) + np.kron(Om, A.conj().T)\n",
    "b1 = np.kron(np.array([0, 1]), b)\n",
    "N = 2*cols"
   ]
  },
  {
   "cell_type": "markdown",
   "id": "28210fe5-c769-4368-b158-a4fbae80fb7a",
   "metadata": {},
   "source": [
    "Sada generišemo Hamiltonijane $H_0$ i $H_1$. Koristićemo proceduru za slučaj kada $A$ nije pozitivno definitna."
   ]
  },
  {
   "cell_type": "code",
   "execution_count": 5,
   "id": "44be13c6-1213-4a7b-a99a-9ddc80c31a3b",
   "metadata": {},
   "outputs": [],
   "source": [
    "plus = 1/sqrt(2.0) * np.array([1, 1])\n",
    "Plus = plus.reshape(-1, 1) @ plus.reshape(1, 2)\n",
    "minus = 1/sqrt(2.0) * np.array([1, -1])\n",
    "B1 = b1.reshape(-1, 1) @ b1.reshape(1, N)\n",
    "\n",
    "Qb = np.eye(2*N) - np.kron(Plus, B1)\n",
    "H0 = np.kron(Op, np.kron(Z, np.eye(N)) @ Qb) + np.kron(Om, Qb @ np.kron(Z, np.eye(N)))\n",
    "H1 = np.kron(Op, np.kron(X, A1) @ Qb) + np.kron(Om, Qb @ np.kron(X, A1))"
   ]
  },
  {
   "cell_type": "markdown",
   "id": "3caa73e5-a1fb-482d-bc74-b3abae4c7385",
   "metadata": {},
   "source": [
    "Proverimo da je sve dobro tako što ćemo ubaciti sopstvene vrednosti uz $0$ od $H_0$."
   ]
  },
  {
   "cell_type": "code",
   "execution_count": 6,
   "id": "520e7a29-8437-4dbf-8989-fc3622e31733",
   "metadata": {},
   "outputs": [],
   "source": [
    "#print(H0 @ np.kron(np.kron(np.array([0, 1]), plus), b1).reshape(-1, 1))\n",
    "#print(H0 @ np.kron(np.kron(np.array([1, 0]), minus), b1).reshape(-1, 1))"
   ]
  },
  {
   "cell_type": "markdown",
   "id": "9bc769bc-46fb-4b31-82b3-ccc1b4fe59d5",
   "metadata": {},
   "source": [
    "Sve je tu negde na oko $10^{-16}$. To je verovatno zbog preciznosti računanja sa **float** promenljivama na računaru. Deluje da je ovo sve u redu."
   ]
  },
  {
   "cell_type": "markdown",
   "id": "0163ee8d-bf47-4f7d-9805-b432036c8a62",
   "metadata": {},
   "source": [
    "Sada je potrebno definisati funkciju za protok vremena. Ona zavisi od kondicionog broja matrice $A1$. Pravićemo se da imamo efikasan algoritam za ovo i pustićemo **numpy** da izračuna ovo za nas."
   ]
  },
  {
   "cell_type": "code",
   "execution_count": 7,
   "id": "fbb33bb3-eb4c-4286-aca6-9401d0808316",
   "metadata": {},
   "outputs": [
    {
     "data": {
      "text/plain": [
       "1.206804173308867"
      ]
     },
     "execution_count": 7,
     "metadata": {},
     "output_type": "execute_result"
    }
   ],
   "source": [
    "import numpy.linalg as la\n",
    "\n",
    "kappa = la.cond(A1)\n",
    "kappa"
   ]
  },
  {
   "cell_type": "markdown",
   "id": "470580bb-b0fe-404a-9283-6bf37cf78f95",
   "metadata": {},
   "source": [
    "Sada imamo kondicioni broj i možemo definisati funkciju vremena."
   ]
  },
  {
   "cell_type": "code",
   "execution_count": 8,
   "id": "9c5328e4-8dc2-49e9-9a59-fdb4e3c9c5f0",
   "metadata": {},
   "outputs": [],
   "source": [
    "def time_function(kappa, s, p):\n",
    "    return kappa/(kappa - 1) * (1 - (1 + s*(kappa**(p - 1) - 1))**(1/(1 - p)))"
   ]
  },
  {
   "cell_type": "markdown",
   "id": "923cab6f-6567-4e08-b5f8-0bf2a025d970",
   "metadata": {},
   "source": [
    "Za parametar $p$ ćemo uzeti $0.5$. Sada biramo $T = O(\\kappa / \\epsilon)$. Neka to bude $T = \\kappa / \\epsilon$, a za $\\epsilon = 1/10$."
   ]
  },
  {
   "cell_type": "code",
   "execution_count": 9,
   "id": "6daea540-b93b-445f-81bc-02777c650aeb",
   "metadata": {},
   "outputs": [
    {
     "data": {
      "text/plain": [
       "12.06804173308867"
      ]
     },
     "execution_count": 9,
     "metadata": {},
     "output_type": "execute_result"
    }
   ],
   "source": [
    "epsilon = 1.0/10.0\n",
    "T = kappa / epsilon\n",
    "\n",
    "T"
   ]
  },
  {
   "cell_type": "markdown",
   "id": "00b2e9e8-4e4b-4d2c-b17d-f94db3a97717",
   "metadata": {},
   "source": [
    "Ostaje samo da se izabere parametar $M$ koji određuje koliko ćemo imati operatora vremenske evolucije. On se bira tako da bude $M = O(\\text{polylog}(N) T^2 / \\epsilon)$. Postavićemo ga na $20$, jer nemamo dovoljno jaku mašinu da simulira kvantni računar sa toliko mnogo kvantnih kola. Naime, prava vrednost bi ovde bila preko $1000$."
   ]
  },
  {
   "cell_type": "code",
   "execution_count": 10,
   "id": "383b4464-a869-4aaa-8c7a-f77497164ed6",
   "metadata": {},
   "outputs": [],
   "source": [
    "M = 20"
   ]
  },
  {
   "cell_type": "markdown",
   "id": "b6793ff8-f67e-4931-9cbf-6cf5593e5b71",
   "metadata": {},
   "source": [
    "Broj kubita je $\\log_2$ od veličine matrice $H_0$. U ovom slučaju je to $7$. Sada pravimo kvantno kolo koje će opisati vremensku evoluciju. Na to kvantno kolo najpre treba inicijalizovati $\\ket{0} \\ket{-} \\ket{b_1}$."
   ]
  },
  {
   "cell_type": "code",
   "execution_count": 11,
   "id": "ac2f4cce-05bc-4bc9-a7db-e77e46ae745a",
   "metadata": {},
   "outputs": [],
   "source": [
    "from qiskit.circuit import QuantumCircuit\n",
    "from math import log2\n",
    "from qiskit.circuit.library import PauliEvolutionGate\n",
    "from qiskit.circuit.library import StatePreparation\n",
    "from qiskit.quantum_info import SparsePauliOp\n",
    "\n",
    "# predstavljamo H0 i H1 u SparsePauliOp\n",
    "\n",
    "h0, h1 = SparsePauliOp.from_operator(H0), SparsePauliOp.from_operator(H1)\n",
    "n = int(log2(H0.shape[0]))\n",
    "\n",
    "time_evolution = QuantumCircuit(n)\n",
    "\n",
    "initial_state = np.kron(np.array([1, 0]), np.kron(minus, b1))\n",
    "stateprep = StatePreparation(initial_state)\n",
    "time_evolution.append(stateprep, range(n))\n",
    "\n",
    "h = 1.0/M\n",
    "\n",
    "for i in reversed(range(1, M + 1)):\n",
    "    si = i*h\n",
    "    time_evolution.append(PauliEvolutionGate(h1, time = T * time_function(kappa, si, 0.5) * h), range(n))\n",
    "    time_evolution.append(PauliEvolutionGate(h0, time = T * (1 - time_function(kappa, si, 0.5)) * h), range(n))\n",
    "\n",
    "time_evolution.measure_all()"
   ]
  },
  {
   "cell_type": "markdown",
   "id": "e36a9c13-6d8f-45b2-82f0-fb1ea008a5c8",
   "metadata": {},
   "source": [
    "Ostaje sad samo da se odredi vektor $\\ket{x''}$."
   ]
  },
  {
   "cell_type": "code",
   "execution_count": 12,
   "id": "13651202-833f-47ea-b67e-6cd64904145e",
   "metadata": {},
   "outputs": [
    {
     "name": "stdout",
     "output_type": "stream",
     "text": [
      "PrimitiveResult([SamplerPubResult(data=DataBin(meas=BitArray(<shape=(), num_shots=1024, num_bits=7>)), metadata={'shots': 1024, 'circuit_metadata': {}})], metadata={'version': 2})\n"
     ]
    }
   ],
   "source": [
    "from qiskit_ibm_runtime import SamplerV2 as Sampler\n",
    "from qiskit.circuit.library import efficient_su2\n",
    "from qiskit.transpiler.preset_passmanagers import generate_preset_pass_manager\n",
    " \n",
    "from qiskit_ibm_runtime import QiskitRuntimeService, Session\n",
    "from qiskit_ibm_runtime import EstimatorV2 as Estimator\n",
    "\n",
    "service = QiskitRuntimeService(channel = \"local\")\n",
    "backend = service.least_busy()\n",
    "\n",
    "target = backend.target\n",
    "pm = generate_preset_pass_manager(target=target, optimization_level=3)\n",
    "\n",
    "sampler = Sampler(mode=backend)\n",
    "\n",
    "qc = pm.run(time_evolution)\n",
    "\n",
    "result = sampler.run([(qc, [])]).result()\n",
    "\n",
    "print(result)"
   ]
  },
  {
   "cell_type": "code",
   "execution_count": 15,
   "id": "e87d7b1e-3283-4b95-830f-bd855facc5c0",
   "metadata": {},
   "outputs": [
    {
     "name": "stdout",
     "output_type": "stream",
     "text": [
      "[0.10364452 0.0625     0.09882118 0.09882118 0.06987712 0.07654655\n",
      " 0.0625     0.04419417 0.08838835 0.09882118 0.11267348 0.08267973\n",
      " 0.09375    0.06987712 0.10825318 0.08838835 0.0625     0.04419417\n",
      " 0.08267973 0.06987712 0.07654655 0.07654655 0.10364452 0.04419417\n",
      " 0.09882118 0.09375    0.10364452 0.08267973 0.11692679 0.09375\n",
      " 0.07654655 0.11692679 0.08267973 0.07654655 0.09882118 0.0625\n",
      " 0.0625     0.08838835 0.09375    0.04419417 0.10364452 0.08838835\n",
      " 0.0625     0.125      0.08838835 0.08267973 0.10364452 0.11267348\n",
      " 0.08838835 0.10825318 0.08267973 0.09375    0.08267973 0.07654655\n",
      " 0.11267348 0.07654655 0.09882118 0.09375    0.08267973 0.08267973\n",
      " 0.08838835 0.         0.09375    0.0625     0.06987712 0.09882118\n",
      " 0.06987712 0.08267973 0.08267973 0.08838835 0.07654655 0.06987712\n",
      " 0.10364452 0.0625     0.08267973 0.10825318 0.10364452 0.06987712\n",
      " 0.06987712 0.09882118 0.10364452 0.09375    0.08838835 0.09882118\n",
      " 0.07654655 0.09882118 0.0625     0.08267973 0.09882118 0.10364452\n",
      " 0.125      0.10364452 0.05412659 0.09375    0.08838835 0.11267348\n",
      " 0.08267973 0.08267973 0.0625     0.0625     0.10364452 0.09882118\n",
      " 0.08838835 0.08838835 0.10825318 0.09375    0.07654655 0.10364452\n",
      " 0.09375    0.09375    0.09882118 0.08267973 0.07654655 0.07654655\n",
      " 0.10825318 0.09375    0.07654655 0.08267973 0.0625     0.11267348\n",
      " 0.10825318 0.08838835 0.08267973 0.09882118 0.08267973 0.09882118\n",
      " 0.08838835 0.07654655]\n",
      "1.0\n"
     ]
    }
   ],
   "source": [
    "# ovde koristimo neki IBM-ov kod da izdvojimo amplitude iz semplera\n",
    "\n",
    "counts_int = result[0].data.meas.get_int_counts()\n",
    "counts_bin = result[0].data.meas.get_counts()\n",
    "shots = sum(counts_int.values())\n",
    "final_distribution_100_int = {\n",
    "    key: val / shots for key, val in counts_int.items()\n",
    "}\n",
    "\n",
    "for x in range(2**n):\n",
    "    if x not in final_distribution_100_int.keys():\n",
    "        final_distribution_100_int[x] = 0\n",
    "\n",
    "y = np.array([sqrt(final_distribution_100_int[x]) for x in range(2**n)])\n",
    "\n",
    "print(y)\n",
    "print(sqrt(sum(y * y)))"
   ]
  },
  {
   "cell_type": "markdown",
   "id": "c118073a-2c50-42c2-b327-a4fad49c4ddd",
   "metadata": {},
   "source": [
    "Sada je potrebno izvući vektor $x''$ iz ovoga. Ovaj vektor koji smo dobili je u obliku $\\ket{0}\\ket{+}\\ket{x''}$. Kada izračunamo $\\ket{0}\\ket{+}$, dobijamo $(1/\\sqrt{2}, 1/\\sqrt{2}, 0, 0)^T$. Onda je vektor koji smo dobili u obliku $((1/\\sqrt{2}) x'', (1/\\sqrt{2}) x'', 0, 0)^T$. Dakle, čitanjem prvih $N$ koordinata i množenjem sa $\\sqrt{2}$ se može dobiti vektor $x''$."
   ]
  },
  {
   "cell_type": "code",
   "execution_count": 16,
   "id": "1638f404-d101-4688-9b14-4631a4ddd656",
   "metadata": {},
   "outputs": [
    {
     "data": {
      "text/plain": [
       "array([0.14657549, 0.08838835, 0.13975425, 0.13975425, 0.09882118,\n",
       "       0.10825318, 0.08838835, 0.0625    , 0.125     , 0.13975425,\n",
       "       0.15934436, 0.11692679, 0.13258252, 0.09882118, 0.15309311,\n",
       "       0.125     , 0.08838835, 0.0625    , 0.11692679, 0.09882118,\n",
       "       0.10825318, 0.10825318, 0.14657549, 0.0625    , 0.13975425,\n",
       "       0.13258252, 0.14657549, 0.11692679, 0.16535946, 0.13258252,\n",
       "       0.10825318, 0.16535946])"
      ]
     },
     "execution_count": 16,
     "metadata": {},
     "output_type": "execute_result"
    }
   ],
   "source": [
    "x_guess = np.array([sqrt(2.0) * y[i] for i in range(N)])\n",
    "x_guess"
   ]
  },
  {
   "cell_type": "markdown",
   "id": "81228214-1e87-4208-9c93-a48d926798a5",
   "metadata": {},
   "source": [
    "Sada množimo $A_1$ i $x''$ da bismo dobili konstantu $d$."
   ]
  },
  {
   "cell_type": "code",
   "execution_count": 17,
   "id": "7ec6d644-4d71-41f7-a22c-1f0b5a5de838",
   "metadata": {},
   "outputs": [],
   "source": [
    "temp = (A1 @ x_guess.reshape(-1, 1)).reshape(1, N)"
   ]
  },
  {
   "cell_type": "code",
   "execution_count": 18,
   "id": "c7a9186f-f9a4-492a-aee6-96d951c03d20",
   "metadata": {},
   "outputs": [
    {
     "name": "stdout",
     "output_type": "stream",
     "text": [
      "(0.08491988765068588+0j)\n",
      "[0.        +0.j 0.        +0.j 0.        +0.j 0.        +0.j\n",
      " 0.        +0.j 0.        +0.j 0.        +0.j 0.        +0.j\n",
      " 0.        +0.j 0.        +0.j 0.        +0.j 0.        +0.j\n",
      " 0.        +0.j 0.        +0.j 0.        +0.j 0.        +0.j\n",
      " 4.51091711+0.j 2.53486988+0.j 0.37837516+0.j 1.4068264 +0.j\n",
      " 0.01432965+0.j 2.76521851+0.j 3.94998796+0.j 3.10949188+0.j\n",
      " 1.34563154+0.j 3.31966348+0.j 4.71010207+0.j 3.98869401+0.j\n",
      " 2.23921897+0.j 0.26729897+0.j 1.66378001+0.j 4.25158528+0.j]\n",
      "[[0.98438066+0.j 0.66766341+0.j 1.26801532+0.j 0.98821177+0.j\n",
      "  1.10678597+0.j 1.16101966+0.j 1.71344322+0.j 0.71999262+0.j\n",
      "  1.49370256+0.j 1.7591548 +0.j 1.53427994+0.j 1.17775904+0.j\n",
      "  1.82369511+0.j 1.59553827+0.j 1.24507079+0.j 1.77794184+0.j\n",
      "  1.59227299+0.j 0.93749522+0.j 1.5137897 +0.j 1.39754249+0.j\n",
      "  1.01035274+0.j 1.16101966+0.j 1.07758679+0.j 0.72671605+0.j\n",
      "  1.33423416+0.j 1.80758865+0.j 1.68220727+0.j 1.17780349+0.j\n",
      "  1.46555821+0.j 1.19365731+0.j 1.74147552+0.j 1.35944732+0.j]]\n"
     ]
    }
   ],
   "source": [
    "d = 0\n",
    "\n",
    "for i in range(N):\n",
    "    if temp[0, i] != 0:\n",
    "        d += b1[i] / temp[0, i]\n",
    "\n",
    "d /= N\n",
    "\n",
    "print(d)\n",
    "\n",
    "print(1/d * b1)\n",
    "print(temp)"
   ]
  },
  {
   "cell_type": "markdown",
   "id": "dabf0d0e-70c6-4e12-8077-3f13d4bfde4a",
   "metadata": {},
   "source": [
    "Konačno, dobijamo: $x = c * d * x''$."
   ]
  },
  {
   "cell_type": "code",
   "execution_count": 19,
   "id": "fc046197-cd58-476c-b8f3-e9d66bf040e8",
   "metadata": {},
   "outputs": [
    {
     "name": "stdout",
     "output_type": "stream",
     "text": [
      "[0.03062524+0.j 0.01846772+0.j 0.02920002+0.j 0.02920002+0.j\n",
      " 0.02064753+0.j 0.02261824+0.j 0.01846772+0.j 0.01305865+0.j\n",
      " 0.0261173 +0.j 0.02920002+0.j 0.03329315+0.j 0.02443049+0.j\n",
      " 0.02770157+0.j 0.02064753+0.j 0.03198702+0.j 0.0261173 +0.j\n",
      " 0.01846772+0.j 0.01305865+0.j 0.02443049+0.j 0.02064753+0.j\n",
      " 0.02261824+0.j 0.02261824+0.j 0.03062524+0.j 0.01305865+0.j\n",
      " 0.02920002+0.j 0.02770157+0.j 0.03062524+0.j 0.02443049+0.j\n",
      " 0.03454993+0.j 0.02770157+0.j 0.02261824+0.j 0.03454993+0.j]\n"
     ]
    }
   ],
   "source": [
    "x = c * d * x_guess\n",
    "\n",
    "print(x)"
   ]
  },
  {
   "cell_type": "markdown",
   "id": "34271a46-ce86-42c1-b42c-5ea4104fb058",
   "metadata": {},
   "source": [
    "Ova aproksimacija je katastrofalna, jer smo izabrali malo $M$."
   ]
  },
  {
   "cell_type": "code",
   "execution_count": 20,
   "id": "0b6dcc22-1163-4a04-b469-a925d0b628d3",
   "metadata": {},
   "outputs": [
    {
     "data": {
      "text/plain": [
       "array([[0.20567488+0.j],\n",
       "       [0.1395005 +0.j],\n",
       "       [0.26493704+0.j],\n",
       "       [0.20647535+0.j],\n",
       "       [0.23125005+0.j],\n",
       "       [0.24258155+0.j],\n",
       "       [0.35800402+0.j],\n",
       "       [0.15043408+0.j],\n",
       "       [0.31209176+0.j],\n",
       "       [0.36755492+0.j],\n",
       "       [0.32056994+0.j],\n",
       "       [0.24607904+0.j],\n",
       "       [0.38103987+0.j],\n",
       "       [0.33336915+0.j],\n",
       "       [0.26014305+0.j],\n",
       "       [0.37148025+0.j],\n",
       "       [0.33268691+0.j],\n",
       "       [0.19587872+0.j],\n",
       "       [0.31628874+0.j],\n",
       "       [0.29200024+0.j],\n",
       "       [0.21110145+0.j],\n",
       "       [0.24258155+0.j],\n",
       "       [0.22514922+0.j],\n",
       "       [0.15183886+0.j],\n",
       "       [0.2787727 +0.j],\n",
       "       [0.37767461+0.j],\n",
       "       [0.35147763+0.j],\n",
       "       [0.24608833+0.j],\n",
       "       [0.30621133+0.j],\n",
       "       [0.2494008 +0.j],\n",
       "       [0.36386104+0.j],\n",
       "       [0.2840407 +0.j]])"
      ]
     },
     "execution_count": 20,
     "metadata": {},
     "output_type": "execute_result"
    }
   ],
   "source": [
    "A1 @ x.reshape(-1, 1)"
   ]
  },
  {
   "cell_type": "code",
   "execution_count": null,
   "id": "301aa832-b27e-4093-a84a-6a15d10a3677",
   "metadata": {},
   "outputs": [],
   "source": []
  }
 ],
 "metadata": {
  "kernelspec": {
   "display_name": "Python 3 (ipykernel)",
   "language": "python",
   "name": "python3"
  },
  "language_info": {
   "codemirror_mode": {
    "name": "ipython",
    "version": 3
   },
   "file_extension": ".py",
   "mimetype": "text/x-python",
   "name": "python",
   "nbconvert_exporter": "python",
   "pygments_lexer": "ipython3",
   "version": "3.12.3"
  }
 },
 "nbformat": 4,
 "nbformat_minor": 5
}
