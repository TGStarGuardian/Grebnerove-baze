{
 "cells": [
  {
   "cell_type": "markdown",
   "id": "b4094212-9a18-49c7-9fee-5027c70fee38",
   "metadata": {},
   "source": [
    "# Buhbergerov algoritam"
   ]
  },
  {
   "cell_type": "markdown",
   "id": "4b4e9f6d-a9bb-4091-a046-440294bfe0c7",
   "metadata": {},
   "source": [
    "Ovde ćemo prikazati prvi algoritam za izračunavanje Grebnerove baze ideala $I$ generisanog polinomima $f_1, \\ldots, f_m$. Algoritam je dao Bruno Buhberger u svojoj doktorskoj disertaciji.\n",
    "\n",
    "$S$-polinom polinoma $f$ i $g$ je definisan izrazom:\n",
    "\\begin{align*}\n",
    "    S(f, g) = \\frac{LCM(LT(f), LT(g))}{LT(f)} f - \\frac{LCM(LT(f), LT(g))}{LT(g)} g,\n",
    "\\end{align*} gde je sa $LCM$ označen najmanji zajednički sadržilac.\n",
    "\n",
    "Neki autori $S$-polinom nazivaju *syzygy*.\n",
    "\n",
    "Osnovna Buhbergerovog algoritma je naredna iterativna procedura, koja od trenutne baze $G_n$ formira novu bazu $G_{n + 1}$:\n",
    "1. $G_{n + 1}$ inicijalizuj na $G_n$\n",
    "2. za sve parove polinoma $f$ i $g$ iz $G_n$, formiraj $S(f, g)$\n",
    "3. redukuj $S(f, g)$ u odnosu na $G_n$ da dobiješ ostatak $r$\n",
    "4. ako je $r = 0$, nastavi dalje; ako je $r \\neq 0$, dodaj $r$ u $G_{n + 1}$.\n",
    "\n",
    "Buhberger primećuje da je $\\langle G_n \\rangle = \\langle G_{n + 1} \\rangle$, i takođe primećuje da, posle nekog $N_0$, $G_{N} = G_{N_0}$, za sve $N \\geq N_0$. Ispostavlja se da je $G_{N_0}$ Grebnerova baza ideala $I$."
   ]
  },
  {
   "cell_type": "markdown",
   "id": "788e0cb2-ef3e-412e-956f-e499478167dd",
   "metadata": {},
   "source": [
    "## Implementacija"
   ]
  },
  {
   "cell_type": "code",
   "execution_count": 1,
   "id": "17620c6c-1d17-4b83-89c9-73a527228876",
   "metadata": {},
   "outputs": [],
   "source": [
    "from sympy import poly, degree, LT, reduced, lcm\n",
    "from sympy.polys.orderings import lex, grlex, grevlex\n",
    "\n",
    "def buchberger(ideal, variable_order, order):\n",
    "    keep_going = True\n",
    "    while keep_going:\n",
    "        # ako ne dodamo nijedan novi polinom, prekida se petlja\n",
    "        keep_going = False\n",
    "        # lista polinoma koje ćemo dodati\n",
    "        to_be_added = []\n",
    "        for i in range(len(ideal)):\n",
    "            for j in range(i):\n",
    "                f, g = ideal[i], ideal[j]\n",
    "                ltf, ltg = LT(f, order = order), LT(g, order = order)\n",
    "                a = lcm(ltf, ltg)\n",
    "                syzygy = poly((a / ltf) * f - (a / ltg) * g, *variable_order)\n",
    "                _, r = reduced(syzygy, ideal, variable_order, order = order)\n",
    "                if r != 0:\n",
    "                    keep_going = True\n",
    "                    to_be_added.append(r)\n",
    "        for elem in to_be_added:\n",
    "            ideal.append(elem)\n",
    "    return ideal"
   ]
  },
  {
   "cell_type": "code",
   "execution_count": 2,
   "id": "743f0d19-244c-4940-ac1c-d05303865034",
   "metadata": {},
   "outputs": [
    {
     "name": "stdout",
     "output_type": "stream",
     "text": [
      "Grebnerovu bazu čine polinomi:\n",
      "Poly(x**2 - y, x, y, z, domain='ZZ')\n",
      "Poly(x**3 - z, x, y, z, domain='ZZ')\n",
      "Poly(x*y - z, x, y, z, domain='ZZ')\n",
      "Poly(-x*z + y**2, x, y, z, domain='ZZ')\n",
      "Poly(y**3 - z**2, x, y, z, domain='ZZ')\n",
      "Poly(y**3 - z**2, x, y, z, domain='ZZ')\n"
     ]
    }
   ],
   "source": [
    "from sympy.abc import x, y, z\n",
    "\n",
    "variable_order = [x, y, z]\n",
    "order = lex\n",
    "domain = 'ZZ'\n",
    "ideal = [poly('x**2 - y', *variable_order, domain = domain), poly('x**3 - z', *variable_order, domain = domain)]\n",
    "\n",
    "\n",
    "groebner_basis = buchberger(ideal, variable_order, order)\n",
    "\n",
    "print(\"Grebnerovu bazu čine polinomi:\")\n",
    "\n",
    "for elem in groebner_basis:\n",
    "    print(elem)"
   ]
  },
  {
   "cell_type": "code",
   "execution_count": null,
   "id": "55f323f3-db9b-40f0-bcb6-0bd11c4648c2",
   "metadata": {},
   "outputs": [],
   "source": []
  }
 ],
 "metadata": {
  "kernelspec": {
   "display_name": "Python 3 (ipykernel)",
   "language": "python",
   "name": "python3"
  },
  "language_info": {
   "codemirror_mode": {
    "name": "ipython",
    "version": 3
   },
   "file_extension": ".py",
   "mimetype": "text/x-python",
   "name": "python",
   "nbconvert_exporter": "python",
   "pygments_lexer": "ipython3",
   "version": "3.12.3"
  }
 },
 "nbformat": 4,
 "nbformat_minor": 5
}
