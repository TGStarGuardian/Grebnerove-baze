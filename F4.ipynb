{
 "cells": [
  {
   "cell_type": "markdown",
   "id": "8ff63f70-9490-4136-8e18-f555f48088ae",
   "metadata": {},
   "source": [
    "# Algoritam F4"
   ]
  },
  {
   "cell_type": "markdown",
   "id": "c2dd3e6e-95e5-4d08-a90f-537600eb9733",
   "metadata": {},
   "source": [
    "Algoritam $F4$ je otkrio Žan-Šarl Fožer (Jean-Charles Faugère) i objavio u radu [A new efficient algorithm for computing Gröbner bases (F4)](https://www.sciencedirect.com/science/article/pii/S0022404999000055) 1999. godine.\n",
    "\n",
    "Fožer primećuje nekoliko mana Buhbergerovog algoritma za računanje Grebnerovih baza:\n",
    "- algoritam troši dosta vremena na nepotrebna računanja koja dolaze iz $S$-polinoma koji se redukuju u $0$;\n",
    "- algoritam je dosta sekvencijalan, što znači da ne koristi efikasno mogućnosti paralelizacije koje trenutni hardver nudi;\n",
    "- neke optimizacije koje pokušavaju da smanje broj nepotrebnih računanja su previše računski skupe.\n",
    "\n",
    "Osnovna Buhbergerovog algoritma je bila izbor odgovarajućeg para polinoma $(f, g)$, formiranje $S$-polinoma $S(f, g)$ od $f$ i $g$ i redukcija $S(f, g)$ u odnosu na trenutni skup $G$. Fožer je našao način da to ubrza tako što redukuje više polinoma u istoj iteraciji petlje. Sada ćemo prikazati glavne ideje ovog pristupa."
   ]
  },
  {
   "cell_type": "markdown",
   "id": "30935504-084a-4653-a079-93dce96e255c",
   "metadata": {},
   "source": [
    "## Svođenje na problem nalaženja Gaus-Džordanove forme matrice polinoma"
   ]
  },
  {
   "cell_type": "markdown",
   "id": "b41c19f8-05a2-468f-9aa7-b8cdcdd4fbc0",
   "metadata": {},
   "source": [
    "Neka je dat skup polinoma $F = f_1, f_2, \\ldots f_k$. Možemo od svakog polinoma izdvojiti skup monoma $M(f_i)$ koji se nalaze u tom polinomu. Možemo onda proširiti definiciju skupa monoma na skup polinoma, odnosno $M(F) = \\bigcup_{i = 1}^{n} M(f_i)$. Monome u $M(F)$ možemo sortirati u obrnutom poretku u odnosu na neku relaciju $\\prec$, čime dobijamo niz monoma $m_1, m_2, \\ldots, m_t$. Sada svaki polinom iz $F$ možemo zapisati kao linearnu kombinaciju monoma $m_i$, odnosno:\n",
    "\\begin{align*}\n",
    "    f_i = \\alpha_1 m_1 + \\ldots + \\alpha_t m_t,\n",
    "\\end{align*} za sve $1 \\leq i \\leq k$.\n",
    "\n",
    "Ovo nam nameće preslikavanje $\\phi(f)_F = (\\alpha_1(f), \\ldots, \\alpha_t(f))$, koje polinomu daje vektorski zapis. To znači da možemo sve polinome iz skupa $F$ predstaviti kao matricu čije vrste su vektori koji odgovaraju polinomima $f_i$. Dakle, vrste matrice su koeficijenti polinoma, a kolone predstavljaju monome uz te koeficijente.\n",
    "\n",
    "Ako bi monomi $m_i$ bile nezavisne promenljive $Y_i$, onda bismo lako mogli da nađemo redukovanu Grebnerovu bazu od $F$ u odnosu na leksikografski poredak $Y_t < \\ldots < Y_0$ tako što bismo matricu sveli na Gaus-Džordanovu formu. Na vrstama te matrice bi se nalazili polinomi te Grebnerove baze i posao bi bio završen.\n",
    "\n",
    "Bez obzira na to što monomi $m_i$ nisu, u opštem slučaju, nezavisne promenljive, Fožer svejedno nalazi način da se algoritam svođenja matrice na Gaus-Džordanovu formu iskoristi da se nađe Grebnerova baza. Dakle, Fožer nalazi Gaus-Džordanovu formu matrice, nakon čega posmatra skup $LM(F) = \\bigcup_{i = 1}^{n} LM(f_i)$. Od vrsta redukovane matrice, izdvaja skup polinoma:\n",
    "\\begin{align*}\n",
    "    F^{+} = \\{g \\mid g \\text{ je vrsta redukovane matrice} \\land LM(g) \\notin LM(F)\\}\n",
    "\\end{align*}\n",
    "\n",
    "Takođe definiše i skup $F^{-}$ koji se sastoji od polinoma koji odgovaraju vrstama redukovane matrice, ali nisu u $F^{+}$.\n",
    "\n",
    "Prva stvar koja se može dokazati je sledeće. Neka je $F'$ skup polinoma čija je veličina jednaka veličini $LM(F)$ i $LM(F') = LM(F)$: proširivanjem skupa $F^{+}$, dobijamo bazu vektorskog prostora generisanog vektorima koji odgovaraju polinomima iz $F$. Dodatno, ta baza je trougaona, odnosno mogu se elementi baze urediti u niz $g_1, \\ldots, g_m$ tako da je $LM(g_i) > LM(g_{i + 1})$."
   ]
  },
  {
   "cell_type": "markdown",
   "id": "775075e1-bf51-41b8-ac80-799da322a98a",
   "metadata": {},
   "source": [
    "## S-polinomi i matrica"
   ]
  },
  {
   "cell_type": "markdown",
   "id": "f2088c28-c8fe-49ef-93a7-733981afc768",
   "metadata": {},
   "source": [
    "Koja je sad ideja i kakve veze ima ovo što smo u prethodnoj sekciji ispričali sa bilo čim? Pratite pažljivo, jer nije baš intuitivno na prvi pogled. Kao što smo rekli iznad, jedan od glavnih problema Buhbergerovog algoritma je što ima dosta parova $S$-polinoma koji se svode na $0$. Ako smo $S$-polinom $S(f, g)$ videli u jednoj iteraciji algoritma i on se sveo na $0$, videćemo ga i u svim narednim iteracijama i u njima će da se svede na $0$, zbog činjenice da se skup koji odgovara trenutnom stanju Grebnerove baze povećava u svakoj iteraciji. Ako na pametan način uspemo $S$-polinome, ili bar neke njihove delove, da smestimo u matricu, i pritom izbegnemo one koji se svode na $0$, neke nepotrebne račune smo izbegli.\n",
    "\n",
    "Taj pametan način da se izbegnu nepotrebni računi je suština Fožerovog podalgoritma koji je nazvao *simboličko procesiranje*. Zamislimo da smo izdvojili skup parova $(f, g)$. $S$-polinomi tih parova su $\\frac{LCM(LM(f), LM(g))}{LM(f)} f - \\frac{LCM(LM(f), LM(g))}{LM(g)} g$ (možemo svesti polinome $f$ i $g$ na monične, pa je $LT(f) = LM(f)$). Ovo se može lepše zapisati u obliku $t_f f - t_g g$. Umesto $S$-polinoma, Fožer rešava da stavlja $t_f f$ polinome u vrste matrice. Simboličko procesiranje u odnosu na trenutno stanje Grebnerove baze $G$ ovde služi da se iz skupa $F^{+}$ odstrane polinomi koji pripadaju idealu generisanom sa $G$.\n",
    "\n",
    "Sad ide glavna poenta cele ove priče: kada matricu koju smo dobili svedemo na Gaus-Džordanovu formu i izdvojimo skup $F^{+}$, onda $G$ proširujemo sa skupom $F^{+}$. To radimo dok nismo obradili sve moguće parove polinoma. Fožer pokazuje da je ovaj postupak validan, jer se polinomi iz modula generisanog sa $t_f f$ redukuju u $0$ u odnosu na skup polinoma $G \\cup F^{+}$. Dakle, kada se ovaj korak završi, $S$-polinomi parova $(f, g)$ sa kojima smo počeli će biti uključeni u Grebnerovu bazu, čije je trenutno stanje $G \\cup F^{+}$."
   ]
  },
  {
   "cell_type": "markdown",
   "id": "683df600-e121-4711-bbd3-dc86e23f8117",
   "metadata": {},
   "source": [
    "## Algoritam"
   ]
  },
  {
   "cell_type": "markdown",
   "id": "81e4fe32-d709-4e92-adb9-b8d00109a4cf",
   "metadata": {},
   "source": [
    "Opisali smo glavne ideje, ali sada ostaje ceo algoritam da opišemo. Algoritam čine naredne stavke:\n",
    "- ulaz: skup $F$ za čiji ideal tražimo Grebnerovu bazu, funkcija $S$ koja od datog skupa parova $(f, g)$ bira skup parova koje ćemo obraditi\n",
    "- izlaz: Grebnerova baza od $\\langle F \\rangle$\n",
    "- koraci.\n",
    "\n",
    "Koraci algoritma su:\n",
    "1. $G = F$, $d = 0$\n",
    "2. $P = \\{(f, g) \\mid f, g \\in F \\land f \\neq g\\}$\n",
    "3. dokle god je $P \\neq \\emptyset$, radi sledeće:\n",
    "   1. $d = d + 1$\n",
    "   2. $P_d = S(P)$\n",
    "   3. $P = P - P_d$\n",
    "   4. $L_d$ postaje skup elemenata $(t_f, f)$ takvi da je $f$ u nekom od parova iz $P_d$\n",
    "   5. $F_d^{+} = Reduction(L_d, G)$\n",
    "   6. za sve $h$ iz $F_d^{+}$, radi sledeće:\n",
    "      1. $P = P \\cup \\{(h, g) \\mid g \\in G \\}$\n",
    "      2. $G = G \\cup \\{h\\}$\n",
    "4. vrati $G$\n",
    "\n",
    "Dakle, prvo konstruišemo skup parova i inicijalizujemo Grebnerovu bazu na $F$. Naredni korak je prolaženje kroz neke od parova, njihovo obrađivanje i proširivanje baze. Kada uvodimo nove elemente u bazu, u skup parova dodajemo i parove koji odgovaraju $S$-polinomima vezanim za taj element.\n",
    "\n",
    "Sada opišimo kako radi funkcija $Reduction$. Algoritam za $Reduction$ čine:\n",
    "- ulaz: skup $L$ parova oblika $(t_f, f)$, skup $G$ koji predstavlja trenutno stanje Grebnerove baze\n",
    "- izlaz: skup polinoma $F^{+}$\n",
    "- koraci.\n",
    "Koraci algoritma su:\n",
    "1. $F = SymbolicPreprocessing(L, G)$\n",
    "2. svedi matricu na Gaus-Džordanovu formu\n",
    "3. izdvoji i vrati skup polinoma $F^{+}$ iz matrice\n",
    "\n",
    "Konačno, opisujemo algoritam $SymbolicPreprocessing$. Njega čine:\n",
    "- ulaz: skup $L$ parova oblika $(t_f, f)$, skup $G$ koji predstavlja trenutno stanje Grebnerove baze\n",
    "- izlaz: skup polinoma $F$\n",
    "- koraci.\n",
    "Koraci algoritma su:\n",
    "1. $F = \\{t_f f \\mid (t_f, f) \\in L\\}$\n",
    "2. $Done = LM(F)$\n",
    "3. dokle god je $M(F) \\neq Done$, gde je $M(F)$ skup monoma svih polinoma iz $F$, radi sledeće:\n",
    "   1. nađi element $m$ koji se nalazi u $M(F)$, ali ne u $Done$\n",
    "   2. $Done = Done \\cup \\{m\\}$\n",
    "   3. ako postoje polinom $f$ iz $G$ i monom $m'$ iz $M(F)$ takvi da važi $m = m' LM(f)$, uradi sledeće:\n",
    "      1. $F = F \\cup \\{m' f\\}$\n",
    "4. vrati $F$\n",
    "\n",
    "Elementi $m' f$ koje dodaje u ovom algoritmu u skup $F$ će pomoći prilikom redukcije matrice. Oduzimanjem vrste koja odgovara polinomu $m' f$ od vrste koja odgovara polinomu $m$, dobijamo vrstu čiji je vodeći monom manji od prethodnog. Na taj način konstruisana matrica kao da skladišti elemente koji će se koristiti prilikom uzajamne redukcije polinoma iz $F$."
   ]
  },
  {
   "cell_type": "markdown",
   "id": "c6876a1c-b2d1-47b5-b3bf-477c0a7bacaa",
   "metadata": {},
   "source": [
    "## Implementacija"
   ]
  },
  {
   "cell_type": "markdown",
   "id": "8ceccccf-9807-4466-a7ae-6da318b083f8",
   "metadata": {},
   "source": [
    "Krenućemo implementaciju sa dna ka vrhu: prvo implementiramo $SymbolicPreprocessing$, pa $Reduction$ i onda tek na kraju glavnu funkciju."
   ]
  },
  {
   "cell_type": "code",
   "execution_count": 1,
   "id": "628db782-9065-49d8-963e-a46eb37809f8",
   "metadata": {},
   "outputs": [],
   "source": [
    "from sympy import poly, degree, LM, reduced, lcm, degree_list\n",
    "from sympy.polys.orderings import lex, grlex, grevlex\n",
    "from sympy.polys.orderings import monomial_key\n",
    "from sympy.abc import x, y, z\n",
    "\n",
    "def degtuple_to_expr(degtuple, varorder):\n",
    "    if len(varorder) == 0:\n",
    "        return \"\"\n",
    "        \n",
    "    s = str(varorder[0]) + \"**\" + str(degtuple[0])\n",
    "    \n",
    "    for i in range(1, len(varorder)):\n",
    "        s = s + \"*\" + str(varorder[i]) + \"**\" + str(degtuple[i])\n",
    "    \n",
    "    return s\n",
    "\n",
    "def symbolic_preprocessing(L, G, varorder, domain):\n",
    "    \n",
    "    if len(L) == 0 or len(G) == 0:\n",
    "            return None\n",
    "    \n",
    "    F = {poly(p[0] * p[1], *varorder, domain = domain) for p in L}\n",
    "    M = set()\n",
    "\n",
    "    for f in F:\n",
    "        for monom in f.monoms():\n",
    "            M.add(poly(degtuple_to_expr(monom, varorder), *varorder, domain = domain))\n",
    "        \n",
    "    # alternativno, možemo da nađemo skup elemenata koji je u M, ali nije u Done\n",
    "    # onda samo izbacujemo elemente iz njega kad ih obrađujemo u petlji\n",
    "    LMF = {LM(f) for f in F}\n",
    "    to_be_checked = M.difference(LMF)\n",
    "    \n",
    "    while len(to_be_checked) != 0:\n",
    "        m = to_be_checked.pop()\n",
    "        # prolazimo kroz polinome iz F i proveravamo da li važi jednakost m = m' LM(f) za neko m'\n",
    "        for f in G:\n",
    "            lmf = poly(LM(f), *varorder, domain = domain)\n",
    "            m_deg, lmf_deg = m.monoms()[0], lmf.monoms()[0]\n",
    "            \n",
    "            flag = True\n",
    "            \n",
    "            for i in range(len(varorder)):\n",
    "                if m_deg[i] < lmf_deg[i]:\n",
    "                    flag = False\n",
    "                    break\n",
    "            \n",
    "            if flag:\n",
    "                m1 = poly(m / lmf, *varorder, domain = domain)\n",
    "                F.add(m1 * f)\n",
    "                break\n",
    "                \n",
    "    return F"
   ]
  },
  {
   "cell_type": "code",
   "execution_count": 2,
   "id": "9dc51211-d299-4bb6-a368-916498f40114",
   "metadata": {},
   "outputs": [
    {
     "name": "stdout",
     "output_type": "stream",
     "text": [
      "{Poly(x**3 - x*y, x, y, z, domain='ZZ'), Poly(x**3 - z, x, y, z, domain='ZZ')}\n"
     ]
    }
   ],
   "source": [
    "varorder = [x, y, z]\n",
    "domain = 'ZZ'\n",
    "g1 = poly('x**2 - y', *varorder, domain = domain)\n",
    "g2 = poly('x**3 - z', *varorder, domain = domain)\n",
    "G = [g1, g2]\n",
    "\n",
    "lm_g1, lm_g2 = LM(g1), LM(g2)\n",
    "lcm_g1_g2 = lcm(lm_g1, lm_g2)\n",
    "\n",
    "L = [(lcm_g1_g2 / lm_g1, g1), (lcm_g1_g2 / lm_g2, g2)]\n",
    "\n",
    "F = symbolic_preprocessing(L, G, varorder, domain)\n",
    "\n",
    "print(F)"
   ]
  },
  {
   "cell_type": "markdown",
   "id": "6b768971-80f5-49b6-94c4-e22c997315b6",
   "metadata": {},
   "source": [
    "Sada implementiramo *Reduction*."
   ]
  },
  {
   "cell_type": "code",
   "execution_count": 3,
   "id": "79027795-692c-499a-be06-9f0eaaf15f43",
   "metadata": {},
   "outputs": [],
   "source": [
    "from sympy import Matrix\n",
    "\n",
    "def build_matrix(polys, monoms, varorder, domain):\n",
    "    cols = [x for x in monoms]\n",
    "    cols.sort(key = monomial_key('lex', varorder), reverse = True)\n",
    "    # pravimo mapu koja svakom monomu dodeljuje indeks\n",
    "    cols_map = {}\n",
    "    for i in range(len(cols)):\n",
    "        cols_map[cols[i]] = i\n",
    "\n",
    "    matrix = []\n",
    "    for f in polys:\n",
    "        row = [0 for i in range(len(cols))]\n",
    "        for monomial, coeff in f.as_dict().items():\n",
    "            row[cols_map[poly(degtuple_to_expr(monomial, varorder), *varorder, domain = domain)]] += coeff\n",
    "        matrix.append(row)\n",
    "\n",
    "    return (Matrix(matrix), cols)\n",
    "\n",
    "def reduction(L, G, varorder, domain):\n",
    "    F = symbolic_preprocessing(L, G, varorder, domain)\n",
    "    \n",
    "    M = set()\n",
    "    \n",
    "    for f in F:\n",
    "        for monom in f.monoms():\n",
    "            M.add(poly(degtuple_to_expr(monom, varorder), *varorder, domain = domain))\n",
    "            \n",
    "    matrix, cols = build_matrix(F, M, varorder, domain)\n",
    "    \n",
    "    rref_matrix, _ = matrix.rref()\n",
    "    \n",
    "    F1 = set()\n",
    "    \n",
    "    LMF = {LM(f) for f in F}\n",
    "    \n",
    "    for i in range(rref_matrix.rows):\n",
    "        p = poly(\"0\", *varorder, domain = domain)\n",
    "    \n",
    "        for j in range(rref_matrix.cols):\n",
    "            p += rref_matrix[i, j] * cols[j]\n",
    "        \n",
    "        if p != 0 and LM(p) not in LMF:\n",
    "            F1.add(p)\n",
    "\n",
    "    return F1"
   ]
  },
  {
   "cell_type": "code",
   "execution_count": 4,
   "id": "6e6207c6-4e17-4839-9ec7-05e31a311b2a",
   "metadata": {},
   "outputs": [
    {
     "name": "stdout",
     "output_type": "stream",
     "text": [
      "{Poly(x*y - z, x, y, z, domain='ZZ')}\n"
     ]
    }
   ],
   "source": [
    "F1 = reduction(L, G, varorder, domain)\n",
    "print(F1)"
   ]
  },
  {
   "cell_type": "markdown",
   "id": "b8921626-d455-442c-a930-1ccd9bf3abc8",
   "metadata": {},
   "source": [
    "Sada možemo implementirati algoritam $F4$ do kraja. Ono na šta treba da obratimo pažnju je funkcija koja bira parove koje ćemo obraditi. Stavićemo za početak funkciju koja uzima sve parove i obrađuje ih odjednom. Posle ćemo prikazati kakvu je funkciju koristio Fožer u svom radu."
   ]
  },
  {
   "cell_type": "code",
   "execution_count": 5,
   "id": "5f969103-3f8c-4cd4-aaa7-81e0748ff29d",
   "metadata": {},
   "outputs": [],
   "source": [
    "def select_all(pairs, *args):\n",
    "    return pairs.copy()\n",
    "\n",
    "def F4(F, select, varorder, domain):\n",
    "    G, d = {f for f in F}, 0\n",
    "    P = set()\n",
    "    for i in range(len(F)):\n",
    "        for j in range(len(F)):\n",
    "            if i != j:\n",
    "                P.add((F[i], F[j]))\n",
    "    while len(P) != 0:\n",
    "        d += 1\n",
    "        Pd = select(P, varorder, domain)\n",
    "        for p in Pd:\n",
    "            P.discard(p)\n",
    "        Ld = set()\n",
    "        for f, g in Pd:\n",
    "            lmf, lmg = LM(f), LM(g)\n",
    "            lcmfg = lcm(lmf, lmg)\n",
    "            tf, tg = poly(lcmfg / lmf, *varorder, domain = domain), poly(lcmfg / lmg, *varorder, domain = domain)\n",
    "            Ld.add((tf, f))\n",
    "            Ld.add((tg, g))\n",
    "        F1 = reduction(Ld, G, varorder, domain)\n",
    "        for h in F1:\n",
    "            for g in G:\n",
    "                P.add((h, g))\n",
    "            G.add(h)\n",
    "    \n",
    "    return G"
   ]
  },
  {
   "cell_type": "code",
   "execution_count": 6,
   "id": "0ec0ae02-ca83-4f58-a4df-f3f0ec75522b",
   "metadata": {},
   "outputs": [
    {
     "name": "stdout",
     "output_type": "stream",
     "text": [
      "Poly(x**3 - z, x, y, z, domain='ZZ')\n",
      "Poly(x*y**2*z - y*z**2, x, y, z, domain='ZZ')\n",
      "Poly(x*y - z, x, y, z, domain='ZZ')\n",
      "Poly(y**3 - z**2, x, y, z, domain='ZZ')\n",
      "Poly(x*z - y**2, x, y, z, domain='ZZ')\n",
      "Poly(x**2 - y, x, y, z, domain='ZZ')\n"
     ]
    }
   ],
   "source": [
    "basis = F4(G, select_all, varorder, domain)\n",
    "\n",
    "for g in basis:\n",
    "    print(g)"
   ]
  },
  {
   "cell_type": "code",
   "execution_count": 7,
   "id": "c7a94747-d7ff-448e-ab4a-6247f6c8a56e",
   "metadata": {},
   "outputs": [
    {
     "name": "stdout",
     "output_type": "stream",
     "text": [
      "Poly(0, x, y, z, domain='ZZ')\n",
      "Poly(0, x, y, z, domain='ZZ')\n",
      "Poly(0, x, y, z, domain='ZZ')\n",
      "Poly(0, x, y, z, domain='ZZ')\n",
      "Poly(0, x, y, z, domain='ZZ')\n",
      "Poly(0, x, y, z, domain='ZZ')\n"
     ]
    }
   ],
   "source": [
    "B = [poly(x**3 - z, x, y, z, domain='ZZ'),\n",
    "     poly(x**2 - y, x, y, z, domain='ZZ'),\n",
    "     poly(x*y - z, x, y, z, domain='ZZ'),\n",
    "     poly(y**3 - z**2, x, y, z, domain='ZZ'),\n",
    "     poly(x*z - y**2, x, y, z, domain='ZZ')]\n",
    "\n",
    "basis = [x for x in basis]\n",
    "\n",
    "for b in basis:\n",
    "    _, r = reduced(b, B)\n",
    "    print(r)"
   ]
  },
  {
   "cell_type": "markdown",
   "id": "4137478b-c789-4e30-bb26-cac81624ebc1",
   "metadata": {},
   "source": [
    "Rezultat koji smo dobili je malo drugačiji od onog koji se dobija Buhbergerovim algoritmom. Ipak, lako proveravamo elementi ove baze pripadaju idealu generisanom Grebnerovom bazom iz Buhbergerovog algoritma.\n",
    "\n",
    "Sada ćemo prikazati strategiju izbora koju je Fožer koristio. On navodi da se ta funkcija najbolje pokazala u praksi (verovatno misli na vreme izvršavanja), a njeno izračunavanje čine dva koraka:\n",
    "\n",
    "1. nađi najmanji totalni stepen $d$ od $LCM(LM(f), LM(g))$ za sve parove iz $P$\n",
    "2. $P_d$ postavi da bude skup parova čiji $LCM(LM(f), LM(g))$ ima stepen $d$."
   ]
  },
  {
   "cell_type": "code",
   "execution_count": 8,
   "id": "f4119cb1-4d3f-48f7-a5d8-b8d12ff48c24",
   "metadata": {},
   "outputs": [],
   "source": [
    "def faugere_select(pairs, varorder, domain):\n",
    "    d = 9999\n",
    "\n",
    "    for p in pairs:\n",
    "        f, g = p\n",
    "        lmf, lmg = LM(f), LM(g)\n",
    "        lcmfg = poly(lcm(lmf, lmg), *varorder, domain = domain)\n",
    "\n",
    "        d1 = sum(lcmfg.monoms()[0])\n",
    "\n",
    "        if d1 < d:\n",
    "            d = d1\n",
    "\n",
    "    Pd = set()\n",
    "    for p in pairs:\n",
    "        f, g = p\n",
    "        lmf, lmg = LM(f), LM(g)\n",
    "        lcmfg = poly(lcm(lmf, lmg), *varorder, domain = domain)\n",
    "\n",
    "        if d == sum(lcmfg.monoms()[0]):\n",
    "            Pd.add(p)\n",
    "\n",
    "    return Pd"
   ]
  },
  {
   "cell_type": "code",
   "execution_count": 9,
   "id": "d12d1a31-25ae-414d-850c-7110855ec77c",
   "metadata": {},
   "outputs": [
    {
     "name": "stdout",
     "output_type": "stream",
     "text": [
      "Poly(y**3*z**10 - z**12, x, y, z, domain='ZZ')\n",
      "Poly(x**2*y**2*z - z**3, x, y, z, domain='ZZ')\n",
      "Poly(x*y**2*z**5 - y*z**6, x, y, z, domain='ZZ')\n",
      "Poly(x*y**3*z - y**2*z**2, x, y, z, domain='ZZ')\n",
      "Poly(x*y**3*z**3 - y**2*z**4, x, y, z, domain='ZZ')\n",
      "Poly(x*y*z**9 - z**10, x, y, z, domain='ZZ')\n",
      "Poly(x*y**2*z**10 - y*z**11, x, y, z, domain='ZZ')\n",
      "Poly(x**3 - z, x, y, z, domain='ZZ')\n",
      "Poly(x**2*z**17 - y*z**17, x, y, z, domain='ZZ')\n",
      "Poly(x*y**2*z - y*z**2, x, y, z, domain='ZZ')\n",
      "Poly(x*y*z**4 - z**5, x, y, z, domain='ZZ')\n",
      "Poly(y**5*z**2 - y**2*z**4, x, y, z, domain='ZZ')\n",
      "Poly(x*z**10 - y**2*z**9, x, y, z, domain='ZZ')\n",
      "Poly(x*z**13 - y**2*z**12, x, y, z, domain='ZZ')\n",
      "Poly(x*y**2*z**8 - y*z**9, x, y, z, domain='ZZ')\n",
      "Poly(x*y*z**10 - z**11, x, y, z, domain='ZZ')\n",
      "Poly(x*y*z**3 - z**4, x, y, z, domain='ZZ')\n",
      "Poly(x*z - y**2, x, y, z, domain='ZZ')\n",
      "Poly(x*y*z**18 - z**19, x, y, z, domain='ZZ')\n",
      "Poly(y**3*z**2 - z**4, x, y, z, domain='ZZ')\n",
      "Poly(x*y*z**11 - z**12, x, y, z, domain='ZZ')\n",
      "Poly(x*z**9 - y**2*z**8, x, y, z, domain='ZZ')\n",
      "Poly(x*z**2 - y**2*z, x, y, z, domain='ZZ')\n",
      "Poly(x*y**2*z**3 - y*z**4, x, y, z, domain='ZZ')\n",
      "Poly(x*y*z - z**2, x, y, z, domain='ZZ')\n",
      "Poly(x*y*z**14 - z**15, x, y, z, domain='ZZ')\n",
      "Poly(x*y*z**8 - z**9, x, y, z, domain='ZZ')\n",
      "Poly(x*z**17 - y**2*z**16, x, y, z, domain='ZZ')\n",
      "Poly(y**3*z**21 - z**23, x, y, z, domain='ZZ')\n",
      "Poly(y**3*z**7 - z**9, x, y, z, domain='ZZ')\n",
      "Poly(x*y**2*z**11 - y*z**12, x, y, z, domain='ZZ')\n",
      "Poly(x*y*z**12 - z**13, x, y, z, domain='ZZ')\n",
      "Poly(x*y*z**7 - z**8, x, y, z, domain='ZZ')\n",
      "Poly(x*z**11 - y**2*z**10, x, y, z, domain='ZZ')\n",
      "Poly(x*y**2*z**9 - y*z**10, x, y, z, domain='ZZ')\n",
      "Poly(x*y**2*z**6 - y*z**7, x, y, z, domain='ZZ')\n",
      "Poly(x*z**20 - y**2*z**19, x, y, z, domain='ZZ')\n",
      "Poly(x*y*z**6 - z**7, x, y, z, domain='ZZ')\n",
      "Poly(x*y - z, x, y, z, domain='ZZ')\n",
      "Poly(x*y**2 - y*z, x, y, z, domain='ZZ')\n",
      "Poly(x*z**5 - y**2*z**4, x, y, z, domain='ZZ')\n",
      "Poly(x*y*z**5 - z**6, x, y, z, domain='ZZ')\n",
      "Poly(y**3*z**6 - z**8, x, y, z, domain='ZZ')\n",
      "Poly(y**3*z**8 - z**10, x, y, z, domain='ZZ')\n",
      "Poly(y**3*z**9 - z**11, x, y, z, domain='ZZ')\n",
      "Poly(x*z**6 - y**2*z**5, x, y, z, domain='ZZ')\n",
      "Poly(x*y*z**21 - z**22, x, y, z, domain='ZZ')\n",
      "Poly(x*z**7 - y**2*z**6, x, y, z, domain='ZZ')\n",
      "Poly(x*y**2*z**7 - y*z**8, x, y, z, domain='ZZ')\n",
      "Poly(y**3*z**5 - z**7, x, y, z, domain='ZZ')\n",
      "Poly(x*z**12 - y**2*z**11, x, y, z, domain='ZZ')\n",
      "Poly(y**4*z**14 - y*z**16, x, y, z, domain='ZZ')\n",
      "Poly(x*z**8 - y**2*z**7, x, y, z, domain='ZZ')\n",
      "Poly(x*y**3*z**2 - y**2*z**3, x, y, z, domain='ZZ')\n",
      "Poly(x*y**3*z**4 - y**2*z**5, x, y, z, domain='ZZ')\n",
      "Poly(y**3*z**18 - z**20, x, y, z, domain='ZZ')\n",
      "Poly(y**3 - z**2, x, y, z, domain='ZZ')\n",
      "Poly(x**2 - y, x, y, z, domain='ZZ')\n"
     ]
    }
   ],
   "source": [
    "basis = F4(G, faugere_select, varorder, domain)\n",
    "\n",
    "for g in basis:\n",
    "    print(g)"
   ]
  },
  {
   "cell_type": "code",
   "execution_count": 10,
   "id": "08830c23-e74d-4a26-a795-620d0ce4e5a3",
   "metadata": {},
   "outputs": [
    {
     "name": "stdout",
     "output_type": "stream",
     "text": [
      "Poly(0, x, y, z, domain='ZZ')\n",
      "Poly(0, x, y, z, domain='ZZ')\n",
      "Poly(0, x, y, z, domain='ZZ')\n",
      "Poly(0, x, y, z, domain='ZZ')\n",
      "Poly(0, x, y, z, domain='ZZ')\n",
      "Poly(0, x, y, z, domain='ZZ')\n",
      "Poly(0, x, y, z, domain='ZZ')\n",
      "Poly(0, x, y, z, domain='ZZ')\n",
      "Poly(0, x, y, z, domain='ZZ')\n",
      "Poly(0, x, y, z, domain='ZZ')\n",
      "Poly(0, x, y, z, domain='ZZ')\n",
      "Poly(0, x, y, z, domain='ZZ')\n",
      "Poly(0, x, y, z, domain='ZZ')\n",
      "Poly(0, x, y, z, domain='ZZ')\n",
      "Poly(0, x, y, z, domain='ZZ')\n",
      "Poly(0, x, y, z, domain='ZZ')\n",
      "Poly(0, x, y, z, domain='ZZ')\n",
      "Poly(0, x, y, z, domain='ZZ')\n",
      "Poly(0, x, y, z, domain='ZZ')\n",
      "Poly(0, x, y, z, domain='ZZ')\n",
      "Poly(0, x, y, z, domain='ZZ')\n",
      "Poly(0, x, y, z, domain='ZZ')\n",
      "Poly(0, x, y, z, domain='ZZ')\n",
      "Poly(0, x, y, z, domain='ZZ')\n",
      "Poly(0, x, y, z, domain='ZZ')\n",
      "Poly(0, x, y, z, domain='ZZ')\n",
      "Poly(0, x, y, z, domain='ZZ')\n",
      "Poly(0, x, y, z, domain='ZZ')\n",
      "Poly(0, x, y, z, domain='ZZ')\n",
      "Poly(0, x, y, z, domain='ZZ')\n",
      "Poly(0, x, y, z, domain='ZZ')\n",
      "Poly(0, x, y, z, domain='ZZ')\n",
      "Poly(0, x, y, z, domain='ZZ')\n",
      "Poly(0, x, y, z, domain='ZZ')\n",
      "Poly(0, x, y, z, domain='ZZ')\n",
      "Poly(0, x, y, z, domain='ZZ')\n",
      "Poly(0, x, y, z, domain='ZZ')\n",
      "Poly(0, x, y, z, domain='ZZ')\n",
      "Poly(0, x, y, z, domain='ZZ')\n",
      "Poly(0, x, y, z, domain='ZZ')\n",
      "Poly(0, x, y, z, domain='ZZ')\n",
      "Poly(0, x, y, z, domain='ZZ')\n",
      "Poly(0, x, y, z, domain='ZZ')\n",
      "Poly(0, x, y, z, domain='ZZ')\n",
      "Poly(0, x, y, z, domain='ZZ')\n",
      "Poly(0, x, y, z, domain='ZZ')\n",
      "Poly(0, x, y, z, domain='ZZ')\n",
      "Poly(0, x, y, z, domain='ZZ')\n",
      "Poly(0, x, y, z, domain='ZZ')\n",
      "Poly(0, x, y, z, domain='ZZ')\n",
      "Poly(0, x, y, z, domain='ZZ')\n",
      "Poly(0, x, y, z, domain='ZZ')\n",
      "Poly(0, x, y, z, domain='ZZ')\n",
      "Poly(0, x, y, z, domain='ZZ')\n",
      "Poly(0, x, y, z, domain='ZZ')\n",
      "Poly(0, x, y, z, domain='ZZ')\n",
      "Poly(0, x, y, z, domain='ZZ')\n",
      "Poly(0, x, y, z, domain='ZZ')\n"
     ]
    }
   ],
   "source": [
    "basis = [x for x in basis]\n",
    "\n",
    "for g in basis:\n",
    "    _, r = reduced(g, B)\n",
    "    print(r)"
   ]
  },
  {
   "cell_type": "markdown",
   "id": "51be3e53-d8cd-425b-a11b-47fb9ac0f12a",
   "metadata": {},
   "source": [
    "Kao što vidimo, svih pet elemenata koje smo dobili Buhbergerovim algoritmom se nalaze i u ovoj bazi. Ostali elementi se takođe redukuju u $0$, pa pripadaju istom idealu. Razlog zašto se dobijaju ovako velike Grebnerove baze je što je korišćen poredak **lex**, koji je poznat po tome što generiše velike Grebnerove baze. Probao sam da koristim i druge poretke, ali iz nekog razloga je izvršavanje bilo jako sporo. Pretpostavljam da Sympy nema najbolju organizaciju biblioteke, i da se dosta vremena troši na neke sporedne operacije, kao što je generisanje **Poly** objekata. Česti pozivi **poly** funkcije su iz razloga što, kada dođe do toga da neka promenljiva bude isključena iz polinoma, Sympy u pozadini napravi polinom bez te promenljive umesto da zadrži promenljivu i dodeli joj stepen $0$.\n",
    "\n",
    "Ova funkcija trenutno radi samo za redosled $x > y > z$. Drugi redosledi se mogu postići preimenovanjem promenljivih. Pokazaćemo kako se mogu efikasno polinomi čuvati u memoriji i kako se efikasno implementiraju elementarne operacije nad polinomima."
   ]
  },
  {
   "cell_type": "code",
   "execution_count": null,
   "id": "55e7515d-376a-403f-9b02-047f0d29e9c2",
   "metadata": {},
   "outputs": [],
   "source": []
  }
 ],
 "metadata": {
  "kernelspec": {
   "display_name": "Python 3 (ipykernel)",
   "language": "python",
   "name": "python3"
  },
  "language_info": {
   "codemirror_mode": {
    "name": "ipython",
    "version": 3
   },
   "file_extension": ".py",
   "mimetype": "text/x-python",
   "name": "python",
   "nbconvert_exporter": "python",
   "pygments_lexer": "ipython3",
   "version": "3.12.3"
  }
 },
 "nbformat": 4,
 "nbformat_minor": 5
}
