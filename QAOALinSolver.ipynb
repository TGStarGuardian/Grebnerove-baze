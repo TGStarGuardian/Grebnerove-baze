{
 "cells": [
  {
   "cell_type": "markdown",
   "id": "5e2e7a5c-e862-49ae-9d1b-31dbd89a8260",
   "metadata": {},
   "source": [
    "# QAOA rešavač linearnih jednačina"
   ]
  },
  {
   "cell_type": "markdown",
   "id": "8d99fd5c-275a-48ea-9367-1205e5b9b512",
   "metadata": {},
   "source": [
    "Videli smo da je jedan od problema algoritma $AQC(p)$ što zahteva veliki broj kvantnih kola. Ovde ćemo pokazati algoritam koji može da poboljša ovo tako što će sa relativno malo kola da se približi rešenju linearne jednačine."
   ]
  },
  {
   "cell_type": "code",
   "execution_count": 1,
   "id": "9d114310-a704-4ac7-ad05-dca58a90c69c",
   "metadata": {},
   "outputs": [],
   "source": [
    "import scipy.sparse as sparse\n",
    "import numpy as np\n",
    "from math import sqrt\n",
    "from scipy.optimize import minimize\n",
    "from qiskit.circuit.library import QAOAAnsatz\n",
    "from qiskit.quantum_info import SparsePauliOp\n",
    "from qiskit.circuit.library import StatePreparation\n",
    "from qiskit.circuit import QuantumCircuit\n",
    "from math import log2\n",
    "from qiskit.transpiler.preset_passmanagers import generate_preset_pass_manager\n",
    "from qiskit_ibm_runtime import QiskitRuntimeService\n",
    "from qiskit_ibm_runtime import Session, EstimatorV2 as Estimator\n",
    "from qiskit_ibm_runtime import SamplerV2 as Sampler\n",
    "\n",
    "rows, cols = 4, 4\n",
    "density = 0.5\n",
    "\n",
    "R = sparse.random(rows, cols, density=density, format='csr', dtype=np.float64)\n",
    "A = R.T @ R + sparse.diags(np.ones(cols) * 10, format='csr')\n",
    "A = A.toarray()\n",
    "\n",
    "b = np.random.rand(cols)\n",
    "c = sqrt(sum(b*b))\n",
    "b = 1/c * b\n",
    "\n",
    "X = np.array([[0.0, 1.0], [1.0, 0.0]])\n",
    "Y = np.array([[0.0, -1.0j], [1.0j, 0.0]])\n",
    "Z = np.array([[1.0, 0.0], [0.0, -1.0]])\n",
    "\n",
    "Op, Om = 1/2.0 * (X + 1.0j * Y), 1/2.0 * (X - 1.0j * Y)\n",
    "\n",
    "A1 = np.kron(Op, A) + np.kron(Om, A.conj().T)\n",
    "b1 = np.kron(np.array([0, 1]), b)\n",
    "N = 2*cols\n",
    "\n",
    "plus = 1/sqrt(2.0) * np.array([1, 1])\n",
    "Plus = plus.reshape(-1, 1) @ plus.reshape(1, 2)\n",
    "minus = 1/sqrt(2.0) * np.array([1, -1])\n",
    "B1 = b1.reshape(-1, 1) @ b1.reshape(1, N)\n",
    "\n",
    "Qb = np.eye(2*N) - np.kron(Plus, B1)\n",
    "H0 = np.kron(Op, np.kron(Z, np.eye(N)) @ Qb) + np.kron(Om, Qb @ np.kron(Z, np.eye(N)))\n",
    "H1 = np.kron(Op, np.kron(X, A1) @ Qb) + np.kron(Om, Qb @ np.kron(X, A1))"
   ]
  },
  {
   "cell_type": "markdown",
   "id": "cc07c470-36fc-4862-8034-70d684144b4c",
   "metadata": {},
   "source": [
    "Kao i u $AQC(p)$, generisali smo matricu $A$, vektor $b$, transformisali matricu u ermitsku matricu $A1$, transformisali vektor $\\ket{b}$ u $\\ket{1}\\ket{b}$ i izgradili smo Hamiltonijane $H_0$ i $H_1$. Sada preskačemo određivanje kondicione vrednosti i konstantni $T$ i $M$ iz algoritma $AQC(p)$, već odmah prelazimo na konstrukciju kvantnog kola gde je $M = 2$. To kvantno kolo će biti oblika:\n",
    "\\begin{align*}\n",
    "    e^{-i \\gamma_M H_1} e^{-i \\beta_M H_0} \\ldots e^{-i \\gamma_1 H_1} e^{-i \\beta_1 H_0} \\ket{\\psi_0},\n",
    "\\end{align*} gde su parametri $\\gamma_i$, $\\beta_i$ neke konstante koje ćemo odrediti kasnije."
   ]
  },
  {
   "cell_type": "code",
   "execution_count": 2,
   "id": "ade7c887-49d3-4198-b2cf-d915c1990d20",
   "metadata": {},
   "outputs": [],
   "source": [
    "n = int(log2(H0.shape[0]))\n",
    "\n",
    "prepare_b = QuantumCircuit(n)\n",
    "initial_state = np.kron(np.array([1, 0]), np.kron(minus, b1))\n",
    "stateprep = StatePreparation(initial_state)\n",
    "prepare_b.append(stateprep, range(n))\n",
    "\n",
    "h0, h1 = SparsePauliOp.from_operator(H0), SparsePauliOp.from_operator(H1)\n",
    "\n",
    "M = 2\n",
    "\n",
    "circuit = QAOAAnsatz(cost_operator = h1, initial_state = prepare_b, mixer_operator = h0, reps = M)"
   ]
  },
  {
   "cell_type": "markdown",
   "id": "b0fefd45-ab7c-4ea6-a5a4-4acc0e33e63f",
   "metadata": {},
   "source": [
    "**Qiskit** klasa **QAOAAnsatz** radi sav ovaj posao za nas. Naše je bilo samo da zadamo dubinu kola ($20$), Hamiltonijane $H_0$ i $H_1$. Ovde je $H_1$ **cost_operator**, a $H_0$ **mixer_operator**. Takođe, inicijalizovali smo kvantno kolo koje priprema stanje $\\ket{-}\\ket{0}\\ket{b'}$ i dodali ga na početak kvantnog kola."
   ]
  },
  {
   "cell_type": "markdown",
   "id": "ca84c658-ba40-44e3-a2c2-33df01295cd6",
   "metadata": {},
   "source": [
    "Sad je potrebno naći optimalne vrednosti parametara, odnosno one koji minimizuju $\\bra{\\psi(\\gamma, \\beta)} H_1^2 \\ket{\\psi(\\gamma, \\beta)}$."
   ]
  },
  {
   "cell_type": "code",
   "execution_count": 3,
   "id": "3ac3fd3a-5f73-4198-ae29-3f7d6c34cdfc",
   "metadata": {},
   "outputs": [],
   "source": [
    "h1_squared = h1 @ h1"
   ]
  },
  {
   "cell_type": "code",
   "execution_count": 4,
   "id": "c1298c3d-e914-4953-a52d-749cd79d13e0",
   "metadata": {},
   "outputs": [],
   "source": [
    "service = QiskitRuntimeService(channel = 'local')\n",
    "backend = service.least_busy()\n",
    "\n",
    "# Create pass manager for transpilation\n",
    "pm = generate_preset_pass_manager(optimization_level=3, backend=backend)\n",
    " \n",
    "candidate_circuit = pm.run(circuit)"
   ]
  },
  {
   "cell_type": "code",
   "execution_count": 5,
   "id": "8bcb0726-3e90-4f99-ae47-b96e46e18be4",
   "metadata": {},
   "outputs": [],
   "source": [
    "initial_gamma = np.pi\n",
    "initial_beta = np.pi / 2\n",
    "\n",
    "init_params = [initial_beta for i in range(M)] + [initial_gamma for i in range(M)]"
   ]
  },
  {
   "cell_type": "markdown",
   "id": "6f034759-2ba4-44c4-aff4-344cdb8a3ebd",
   "metadata": {},
   "source": [
    "Definišemo funkciju cene. Funkcija je slična onoj koju smo koristili za VQE."
   ]
  },
  {
   "cell_type": "code",
   "execution_count": 6,
   "id": "33472448-a71f-454d-b869-2233919c4be7",
   "metadata": {},
   "outputs": [],
   "source": [
    "hamiltonian_isa = h1.apply_layout(candidate_circuit.layout)\n",
    "\n",
    "def cost_func_estimator(params, ansatz, hamiltonian, estimator):\n",
    " \n",
    "    pub = (ansatz, hamiltonian, params)\n",
    "    job = estimator.run([pub])\n",
    " \n",
    "    results = job.result()[0]\n",
    "    cost = results.data.evs\n",
    " \n",
    "    objective_func_vals.append(cost)\n",
    " \n",
    "    return cost"
   ]
  },
  {
   "cell_type": "markdown",
   "id": "c68f2817-3e05-478d-9706-ab35f9629f92",
   "metadata": {},
   "source": [
    "Sad sve što treba uraditi je da se proslede odgovarajući argumenti optimizatoru i da se zadatak izvrši."
   ]
  },
  {
   "cell_type": "code",
   "execution_count": 7,
   "id": "864095b8-a8e3-4bc3-b3ed-5e8929575a57",
   "metadata": {},
   "outputs": [
    {
     "name": "stdout",
     "output_type": "stream",
     "text": [
      "\n",
      "   Normal return from subroutine COBYLA\n",
      "\n",
      "   NFVALS =   43   F = 8.259875E-01    MAXCV = 0.000000E+00\n",
      "   X = 1.427210E+00   1.178988E+00   2.785751E+00   2.305426E+00\n"
     ]
    }
   ],
   "source": [
    "objective_func_vals = []\n",
    "\n",
    "with Session(backend=backend) as session:\n",
    "    \n",
    "    estimator = Estimator(mode=session)\n",
    "    estimator.options.default_shots = 100\n",
    " \n",
    "    res = minimize(\n",
    "        cost_func_estimator,\n",
    "        init_params,\n",
    "        args = (candidate_circuit, hamiltonian_isa, estimator),\n",
    "        method = 'cobyla',\n",
    "        options = {'maxiter' : 200, 'disp' : 1}\n",
    "    )"
   ]
  },
  {
   "cell_type": "code",
   "execution_count": 8,
   "id": "55a860a3-fd97-4097-8c7a-d80d53910c6f",
   "metadata": {
    "scrolled": true
   },
   "outputs": [
    {
     "data": {
      "text/plain": [
       " message: Optimization terminated successfully.\n",
       " success: True\n",
       "  status: 1\n",
       "     fun: 0.8259875302886626\n",
       "       x: [ 1.427e+00  1.179e+00  2.786e+00  2.305e+00]\n",
       "    nfev: 43\n",
       "   maxcv: 0.0"
      ]
     },
     "execution_count": 8,
     "metadata": {},
     "output_type": "execute_result"
    }
   ],
   "source": [
    "res"
   ]
  },
  {
   "cell_type": "markdown",
   "id": "96b30d6d-5838-49b8-b646-d58829989ac2",
   "metadata": {},
   "source": [
    "Uspelo je da iskonvergira. Sada je potrebno parametre koje smo dobili da ubacimo u ansatz, a zatim izvučemo $\\ket{0}\\ket{+}\\ket{x''}$."
   ]
  },
  {
   "cell_type": "code",
   "execution_count": 12,
   "id": "dd91b3d4-7d7a-46c5-a572-b709a6691298",
   "metadata": {},
   "outputs": [
    {
     "name": "stdout",
     "output_type": "stream",
     "text": [
      "{20: 0.0294, 0: 0.0296, 4: 0.0326, 18: 0.0344, 30: 0.0275, 11: 0.0272, 2: 0.0314, 3: 0.0334, 19: 0.0321, 17: 0.0327, 29: 0.0331, 14: 0.0309, 1: 0.0333, 5: 0.0305, 9: 0.0282, 21: 0.0296, 25: 0.0322, 7: 0.0314, 28: 0.0309, 27: 0.0318, 12: 0.03, 24: 0.0373, 22: 0.0295, 26: 0.0323, 23: 0.0302, 10: 0.0315, 15: 0.0302, 31: 0.0301, 6: 0.0312, 8: 0.0312, 16: 0.0381, 13: 0.0262}\n"
     ]
    }
   ],
   "source": [
    "circuit.measure_all()\n",
    "optimized_circuit = pm.run(circuit)\n",
    "\n",
    "sampler = Sampler(mode=backend)\n",
    "sampler.options.default_shots = 10000\n",
    " \n",
    "pub = (optimized_circuit, res.x)\n",
    "job = sampler.run([pub])\n",
    "counts_int = job.result()[0].data.meas.get_int_counts()\n",
    "counts_bin = job.result()[0].data.meas.get_counts()\n",
    "shots = sum(counts_int.values())\n",
    "final_distribution_int = {key: val / shots for key, val in counts_int.items()}\n",
    "final_distribution_bin = {key: val / shots for key, val in counts_bin.items()}\n",
    "print(final_distribution_int)"
   ]
  },
  {
   "cell_type": "code",
   "execution_count": 13,
   "id": "172e51aa-5af0-44a6-82ff-d5d0bac98a77",
   "metadata": {},
   "outputs": [
    {
     "name": "stdout",
     "output_type": "stream",
     "text": [
      "[0.17204651 0.18248288 0.17720045 0.18275667 0.1805547  0.17464249\n",
      " 0.17663522 0.17720045 0.17663522 0.16792856 0.17748239 0.16492423\n",
      " 0.17320508 0.16186414 0.17578396 0.17378147 0.19519221 0.18083141\n",
      " 0.18547237 0.17916473 0.17146428 0.17204651 0.17175564 0.17378147\n",
      " 0.19313208 0.17944358 0.17972201 0.17832555 0.17578396 0.18193405\n",
      " 0.16583124 0.17349352]\n",
      "0.9999999999999999\n"
     ]
    }
   ],
   "source": [
    "for x in range(2**n):\n",
    "    if x not in final_distribution_int.keys():\n",
    "        final_distribution_int[x] = 0\n",
    "\n",
    "y = np.array([sqrt(final_distribution_int[x]) for x in range(2**n)])\n",
    "\n",
    "print(y)\n",
    "print(sqrt(sum(y * y)))"
   ]
  },
  {
   "cell_type": "code",
   "execution_count": 14,
   "id": "70483fa2-df39-4e72-ae70-b6f0eb829b58",
   "metadata": {},
   "outputs": [
    {
     "data": {
      "text/plain": [
       "array([0.2433105 , 0.25806976, 0.25059928, 0.25845696, 0.25534291,\n",
       "       0.24698178, 0.24979992, 0.25059928])"
      ]
     },
     "execution_count": 14,
     "metadata": {},
     "output_type": "execute_result"
    }
   ],
   "source": [
    "x_guess = np.array([sqrt(2.0) * y[i] for i in range(N)])\n",
    "x_guess"
   ]
  },
  {
   "cell_type": "code",
   "execution_count": 15,
   "id": "e53bbedf-57d8-413d-b49a-2cdf81eca93f",
   "metadata": {},
   "outputs": [
    {
     "name": "stdout",
     "output_type": "stream",
     "text": [
      "(0.06165463858332633+0j)\n",
      "[ 0.        +0.j  0.        +0.j  0.        +0.j  0.        +0.j\n",
      "  0.33109242+0.j 11.2277475 +0.j  0.92637735+0.j 11.66354021+0.j]\n",
      "[[3.25893992+0.j 2.99406459+0.j 2.98462745+0.j 2.84249129+0.j\n",
      "  3.12867701+0.j 3.11277606+0.j 2.98460093+0.j 2.93289529+0.j]]\n"
     ]
    }
   ],
   "source": [
    "temp = (A1 @ x_guess.reshape(-1, 1)).reshape(1, N)\n",
    "\n",
    "d = 0\n",
    "\n",
    "for i in range(N):\n",
    "    if temp[0, i] != 0:\n",
    "        d += b1[i] / temp[0, i]\n",
    "\n",
    "d /= N\n",
    "\n",
    "print(d)\n",
    "\n",
    "print(1/d * b1)\n",
    "print(temp)"
   ]
  },
  {
   "cell_type": "code",
   "execution_count": 16,
   "id": "40cd3365-27c9-4a1a-8ee3-8f138138c10c",
   "metadata": {},
   "outputs": [
    {
     "name": "stdout",
     "output_type": "stream",
     "text": [
      "[0.01915939+0.j 0.0203216 +0.j 0.01973334+0.j 0.02035209+0.j\n",
      " 0.02010688+0.j 0.01944848+0.j 0.0196704 +0.j 0.01973334+0.j]\n"
     ]
    }
   ],
   "source": [
    "x = c * d * x_guess\n",
    "\n",
    "print(x)"
   ]
  },
  {
   "cell_type": "code",
   "execution_count": 17,
   "id": "f7e18154-51d1-406b-87dd-dad7d61392a7",
   "metadata": {},
   "outputs": [
    {
     "data": {
      "text/plain": [
       "array([[0.25662394+0.j],\n",
       "       [0.23576644+0.j],\n",
       "       [0.23502332+0.j],\n",
       "       [0.22383086+0.j],\n",
       "       [0.24636644+0.j],\n",
       "       [0.24511433+0.j],\n",
       "       [0.23502123+0.j],\n",
       "       [0.23094969+0.j]])"
      ]
     },
     "execution_count": 17,
     "metadata": {},
     "output_type": "execute_result"
    }
   ],
   "source": [
    "A1 @ x.reshape(-1, 1)"
   ]
  },
  {
   "cell_type": "markdown",
   "id": "2acb2af2-1f45-4f2c-a37e-6cd12d0fd883",
   "metadata": {},
   "source": [
    "Kao i u algoritmu $AQC(p)$, i ovde je aproksimacija veoma loša. Stvari se mogu popraviti ako se estimatoru da veći broj pokušaja i ako se broj $M$ poveća. Nažalost, već za $1000$ pokušaja estimatora i $M = 5$, algoritam radi izuzetno sporo na ovom računaru, a pristup pravom kvantnom računaru nemamo."
   ]
  },
  {
   "cell_type": "code",
   "execution_count": null,
   "id": "94fcf526-de59-4a0c-bba3-80fc7bfa0539",
   "metadata": {},
   "outputs": [],
   "source": []
  }
 ],
 "metadata": {
  "kernelspec": {
   "display_name": "Python 3 (ipykernel)",
   "language": "python",
   "name": "python3"
  },
  "language_info": {
   "codemirror_mode": {
    "name": "ipython",
    "version": 3
   },
   "file_extension": ".py",
   "mimetype": "text/x-python",
   "name": "python",
   "nbconvert_exporter": "python",
   "pygments_lexer": "ipython3",
   "version": "3.12.3"
  }
 },
 "nbformat": 4,
 "nbformat_minor": 5
}
