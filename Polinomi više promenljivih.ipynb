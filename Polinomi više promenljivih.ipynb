{
 "cells": [
  {
   "cell_type": "markdown",
   "id": "3c2fb7cb-d07b-4a4d-afcf-764c75fd110b",
   "metadata": {},
   "source": [
    "# Polinomi više promenljivih u Python-u"
   ]
  },
  {
   "cell_type": "markdown",
   "id": "cc962224-f1c4-42a9-98f2-6b3cfe66c0d0",
   "metadata": {},
   "source": [
    "U ovom tutorijalu ćemo pokazati glavne operacije sa promenljivama više promenljivih u programskom jeziku Python. Biblioteka koju koristimo je [Sympy](https://docs.sympy.org/latest/modules/polys/reference.html)."
   ]
  },
  {
   "cell_type": "markdown",
   "id": "54a094b9-e6a7-4984-87e5-8ea58688a409",
   "metadata": {},
   "source": [
    "## Kreiranje polinoma"
   ]
  },
  {
   "cell_type": "markdown",
   "id": "64ae4fd1-7bc3-4cc5-947d-049e172fbc4b",
   "metadata": {},
   "source": [
    "Polinom se kreira tako što se pozove funkcija **poly** sa argumentom **expr** koji predstavlja string na kojem je zapisan matematički izraz za taj polinom. Imena promenljivih uvozimo iz biblioteke **sympy.abc**. Pored toga, moguće je zadati i skup koeficijenata koje koristimo podešavanjem promenljive **domain** u konstruktoru. Oznake su:\n",
    "- ZZ - skup celih brojeva\n",
    "- QQ - skup racionalnih brojeva\n",
    "- RR - skup realnih brojeva\n",
    "- CC - skup kompleksnih brojeva\n",
    "- GF(n) - skup $Z_{n}$\n",
    "- EX - skup simboličkih izraza iz SymPy."
   ]
  },
  {
   "cell_type": "markdown",
   "id": "de31ed23-a03c-4dd4-81f8-57bb30c7f804",
   "metadata": {},
   "source": [
    "### Primer:"
   ]
  },
  {
   "cell_type": "code",
   "execution_count": 1,
   "id": "d0fcfb20-bcd6-476a-b317-7379f4949363",
   "metadata": {},
   "outputs": [
    {
     "name": "stdout",
     "output_type": "stream",
     "text": [
      "Poly(1.0*x**3*y + 1.0*x**2*y + 1.0*x*y + 1.0*y**5 + 2.0, x, y, domain='RR')\n"
     ]
    }
   ],
   "source": [
    "from sympy import poly\n",
    "from sympy.abc import x, y\n",
    "\n",
    "p = poly(\"x**2 *y + y*x**3 + y**5 + x*y + 2\", domain = 'RR')\n",
    "\n",
    "print(p)"
   ]
  },
  {
   "cell_type": "markdown",
   "id": "d4b75144-e2c2-4ec1-8099-89f2e22cdbfc",
   "metadata": {},
   "source": [
    "## Stepen polinoma"
   ]
  },
  {
   "cell_type": "markdown",
   "id": "ca659055-fe8b-413d-b4f8-ccebbf9ea4c1",
   "metadata": {},
   "source": [
    "Stepen polinoma $p$ u odnosu na promenljivu $x$ je definisan na sledeći način u Sympy:\n",
    "- ako je $p(x) = 0$, onda je $deg(p) = -\\infty$,\n",
    "- ako je $p(x) \\neq 0$, onda je $deg(p)$ najviši stepen uz $x$ u polinomu $p$.\n",
    "\n",
    "Stepen polinoma se dobija pozivom funkcije **degree** čiji su argumenti polinom i promenljiva po kojoj tražimo stepen polinoma.\n",
    "\n",
    "### Primer:"
   ]
  },
  {
   "cell_type": "code",
   "execution_count": 2,
   "id": "444a7ee2-1a03-4b68-bca3-04eb9758b04e",
   "metadata": {},
   "outputs": [
    {
     "name": "stdout",
     "output_type": "stream",
     "text": [
      "3\n",
      "5\n",
      "-oo\n"
     ]
    }
   ],
   "source": [
    "from sympy import degree\n",
    "\n",
    "print(degree(p, gen = x))\n",
    "print(degree(p, gen = y))\n",
    "print(degree(0, gen = x))"
   ]
  },
  {
   "cell_type": "markdown",
   "id": "a7f5a0ce-06dc-4691-afac-ee5def6f2449",
   "metadata": {},
   "source": [
    "Umesto stepena po pojedinačnim promenljivama, možemo dobiti stepen za sve promenljive odjednom. Funkcija za to je **degree_list**.\n",
    "\n",
    "### Primer:"
   ]
  },
  {
   "cell_type": "code",
   "execution_count": 3,
   "id": "68b14a3b-e5ef-42ec-a0e1-1300c761a828",
   "metadata": {},
   "outputs": [
    {
     "data": {
      "text/plain": [
       "(3, 5)"
      ]
     },
     "execution_count": 3,
     "metadata": {},
     "output_type": "execute_result"
    }
   ],
   "source": [
    "from sympy import degree_list\n",
    "\n",
    "degree_list(p)"
   ]
  },
  {
   "cell_type": "markdown",
   "id": "531375a0-464a-4b0d-97a1-735386d4d628",
   "metadata": {},
   "source": [
    "## Vodeći termovi, koeficijenti i monomi"
   ]
  },
  {
   "cell_type": "markdown",
   "id": "5fd6912c-43cf-42fd-a871-6f6e8011071f",
   "metadata": {},
   "source": [
    "Neka su date promenljive $x_1, x_2, \\ldots, x_n$. Posmatrajmo skup elemenata $P = \\prod_{i = 1}^{n} x_i^{\\alpha_i}$, za $\\alpha_i \\in \\mathbb{N}$. Neka je dato uređenje $\\prec$ tih elemenata. Umesto $x_1, \\ldots x_n$, možemo koristiti oznaku $X$. Takođe, $\\alpha = (\\alpha_1, \\ldots, \\alpha_n)$. Tada je polinom $p(X) = \\sum_{j = 1}^{N} c_j X^{\\alpha_j}$. Elementi $X^{\\alpha_j}$ su *monomi* polinoma $p$.\n",
    "\n",
    "Definišemo tri pojma:\n",
    "- vodeći term polinoma $p(X)$ je element $c_j X^{\\alpha_j}$ takav da je monom $X^{\\alpha_j}$ najveći monom u skupu monoma od $p$ u odnosu na relaciju $\\prec$;\n",
    "- vodeći koeficijent polinoma $p(X)$ je $c_j$ uz vodeći term tog polinoma;\n",
    "- vodeći monom polinoma $p(X)$ je $X^{\\alpha_j}$ element od vodećeg terma tog polinoma.\n",
    "\n",
    "Funkcija za vodeći term je **LT**, za vodeći koeficijent **LC**, a za vodeći monom je **LM**. Podrazumevano uređenje je leksikografsko.\n",
    "\n",
    "### Primer:"
   ]
  },
  {
   "cell_type": "code",
   "execution_count": 4,
   "id": "90eb16f0-10eb-41bd-9d59-aa8f5aee30da",
   "metadata": {},
   "outputs": [
    {
     "name": "stdout",
     "output_type": "stream",
     "text": [
      "1.0*x**3*y\n",
      "1.00000000000000\n",
      "x**3*y\n"
     ]
    }
   ],
   "source": [
    "from sympy import LT, LC, LM\n",
    "\n",
    "print(LT(p))\n",
    "print(LC(p))\n",
    "print(LM(p))"
   ]
  },
  {
   "cell_type": "markdown",
   "id": "ea298e6f-400d-411a-939f-7903aba53972",
   "metadata": {},
   "source": [
    "Moguće je takođe promeniti uređenje polinoma. Na primer, umesto leksikografskom, možemo koristiti graduirani leksikografski poredak (**grlex**), ili graduirani obrnuti leksikografski poredak (**grevlex**).\n",
    "\n",
    "### Primer:"
   ]
  },
  {
   "cell_type": "code",
   "execution_count": 5,
   "id": "a89c15b8-33be-4b2b-820a-e65ca068b0ff",
   "metadata": {},
   "outputs": [
    {
     "name": "stdout",
     "output_type": "stream",
     "text": [
      "grlex\n",
      "1.0*y**5\n",
      "1.00000000000000\n",
      "y**5\n",
      "grevlex\n",
      "1.0*y**5\n",
      "1.00000000000000\n",
      "y**5\n"
     ]
    }
   ],
   "source": [
    "from sympy.polys.orderings import lex, grlex, grevlex\n",
    "\n",
    "print(\"grlex\")\n",
    "print(LT(p, order = grlex))\n",
    "print(LC(p, order = grlex))\n",
    "print(LM(p, order = grlex))\n",
    "\n",
    "print(\"grevlex\")\n",
    "\n",
    "print(LT(p, order = grevlex))\n",
    "print(LC(p, order = grevlex))\n",
    "print(LM(p, order = grevlex))"
   ]
  },
  {
   "cell_type": "markdown",
   "id": "0786cf1f-f528-4654-a513-6766447e41f2",
   "metadata": {},
   "source": [
    "## Redukovanje polinoma u odnosu na skup polinoma $G$"
   ]
  },
  {
   "cell_type": "markdown",
   "id": "8370dfc1-de27-4e4c-a06b-c02e9442a640",
   "metadata": {},
   "source": [
    "Neka je dat skup polinoma $G = \\{g_1, \\ldots, g_m\\}$. Redukovanje je operacija koja prihvata polinom $p$, skup $G$ i poredak monoma $\\prec$, a vraća koeficijente $q_1, \\ldots, q_m$ i $r$ takve da je $p = q_1 g_1 + \\ldots + q_m g_m + r$. Koeficijent $r$ je takav da dalje redukovanje nije moguće u odnosu na poredak monoma $\\prec$.\n",
    "\n",
    "### Primer:"
   ]
  },
  {
   "cell_type": "code",
   "execution_count": 6,
   "id": "ead64545-8304-475d-afa5-421e13b372ed",
   "metadata": {},
   "outputs": [
    {
     "name": "stdout",
     "output_type": "stream",
     "text": [
      "Poly(1.0*x*y + 1.0*y, x, y, domain='RR')\n",
      "Poly(-1.0*y**2 + 1.0*y, x, y, domain='RR')\n",
      "Poly(1.0*y**5 - 1.0*y**3 + 2.0, x, y, domain='RR')\n",
      "True\n"
     ]
    }
   ],
   "source": [
    "from sympy import reduced\n",
    "\n",
    "g1 = poly('x**2 + y**2', domain = 'RR')\n",
    "g2 = poly('x + x*y', domain = 'RR')\n",
    "\n",
    "## zadajemo i poredak x < y\n",
    "q, r = reduced(p, [g1, g2], [x, y], order = lex)\n",
    "\n",
    "q1, q2 = q\n",
    "\n",
    "print(q1)\n",
    "print(q2)\n",
    "print(r)\n",
    "\n",
    "print(q1 * g1 + q2 * g2 + r == p)"
   ]
  },
  {
   "cell_type": "markdown",
   "id": "4f98bd4e-df78-44a7-b576-687ce2bafb7d",
   "metadata": {},
   "source": [
    "## Računanje Grebnerove baze u Sympy"
   ]
  },
  {
   "cell_type": "markdown",
   "id": "c0a42cbe-b8f4-41c8-81e2-b43a4f75d2ac",
   "metadata": {},
   "source": [
    "Sympy daje i funkciju **groebner** za računanje Grebnerove baze. Argumenti su lista polinoma, promenljive u nekom poretku i poredak monoma. Moguće je takođe zadati algoritam koji se koristi preko parametra **method**. Dozvoljene vrednosti za parametar **method** su 'buchberger' i 'f5b'.\n",
    "\n",
    "### Primer:"
   ]
  },
  {
   "cell_type": "code",
   "execution_count": 7,
   "id": "9b546211-8d56-4dbc-a940-96d7532e032c",
   "metadata": {},
   "outputs": [
    {
     "name": "stdout",
     "output_type": "stream",
     "text": [
      "GroebnerBasis([1.0*y**3 + 1.0*y**2, 1.0*x**2 + 1.0*y**2, 1.0*x*y + 1.0*x], x, y, domain='RR', order='grlex')\n",
      "GroebnerBasis([1.0*y**3 + 1.0*y**2, 1.0*x**2 + 1.0*y**2, 1.0*x*y + 1.0*x], x, y, domain='RR', order='grlex')\n"
     ]
    }
   ],
   "source": [
    "from sympy import groebner\n",
    "\n",
    "G1 = groebner([g1, g2], x, y, order = grlex, method = 'buchberger')\n",
    "print(G1)\n",
    "\n",
    "G2 = groebner([g1, g2], x, y, order = grlex, method = 'f5b')\n",
    "print(G2)"
   ]
  },
  {
   "cell_type": "code",
   "execution_count": null,
   "id": "45a7ec53-2ddc-4477-8c97-8dfc34a53fd3",
   "metadata": {},
   "outputs": [],
   "source": []
  }
 ],
 "metadata": {
  "kernelspec": {
   "display_name": "Python 3 (ipykernel)",
   "language": "python",
   "name": "python3"
  },
  "language_info": {
   "codemirror_mode": {
    "name": "ipython",
    "version": 3
   },
   "file_extension": ".py",
   "mimetype": "text/x-python",
   "name": "python",
   "nbconvert_exporter": "python",
   "pygments_lexer": "ipython3",
   "version": "3.12.3"
  }
 },
 "nbformat": 4,
 "nbformat_minor": 5
}
